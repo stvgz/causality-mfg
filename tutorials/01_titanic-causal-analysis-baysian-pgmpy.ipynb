{
 "cells": [
  {
   "attachments": {},
   "cell_type": "markdown",
   "metadata": {},
   "source": [
    "# Causality Analysis with pgmpy"
   ]
  },
  {
   "cell_type": "code",
   "execution_count": 4,
   "metadata": {},
   "outputs": [],
   "source": [
    "# Reference from https://www.kaggle.com/code/lajq26/titanic-causal-analysis/notebook"
   ]
  },
  {
   "attachments": {},
   "cell_type": "markdown",
   "metadata": {
    "papermill": {
     "duration": 0.028122,
     "end_time": "2021-03-31T10:06:43.872265",
     "exception": false,
     "start_time": "2021-03-31T10:06:43.844143",
     "status": "completed"
    },
    "tags": []
   },
   "source": [
    "****Titanic - Causal Analysis****\n",
    "1. correlation \n",
    "2. partial correlation \n",
    "3. bayesian-network"
   ]
  },
  {
   "cell_type": "code",
   "execution_count": 5,
   "metadata": {
    "_cell_guid": "b1076dfc-b9ad-4769-8c92-a6c4dae69d19",
    "_uuid": "8f2839f25d086af736a60e9eeb907d3b93b6e0e5",
    "execution": {
     "iopub.execute_input": "2021-03-31T10:06:43.934903Z",
     "iopub.status.busy": "2021-03-31T10:06:43.934151Z",
     "iopub.status.idle": "2021-03-31T10:06:43.950075Z",
     "shell.execute_reply": "2021-03-31T10:06:43.950606Z"
    },
    "papermill": {
     "duration": 0.051649,
     "end_time": "2021-03-31T10:06:43.950950",
     "exception": false,
     "start_time": "2021-03-31T10:06:43.899301",
     "status": "completed"
    },
    "tags": []
   },
   "outputs": [],
   "source": [
    "import numpy as np \n",
    "import pandas as pd \n",
    "\n",
    "import os\n",
    "# for dirname, _, filenames in os.walk('/dataset/titanic'):\n",
    "#     for filename in filenames:\n",
    "#         print(os.path.join(dirname, filename))"
   ]
  },
  {
   "attachments": {},
   "cell_type": "markdown",
   "metadata": {
    "papermill": {
     "duration": 0.036342,
     "end_time": "2021-03-31T10:06:44.020600",
     "exception": false,
     "start_time": "2021-03-31T10:06:43.984258",
     "status": "completed"
    },
    "tags": []
   },
   "source": [
    "**Random number seed setting**"
   ]
  },
  {
   "cell_type": "code",
   "execution_count": 6,
   "metadata": {
    "execution": {
     "iopub.execute_input": "2021-03-31T10:06:44.093960Z",
     "iopub.status.busy": "2021-03-31T10:06:44.092899Z",
     "iopub.status.idle": "2021-03-31T10:06:44.096831Z",
     "shell.execute_reply": "2021-03-31T10:06:44.095983Z"
    },
    "papermill": {
     "duration": 0.045948,
     "end_time": "2021-03-31T10:06:44.097078",
     "exception": false,
     "start_time": "2021-03-31T10:06:44.051130",
     "status": "completed"
    },
    "tags": []
   },
   "outputs": [],
   "source": [
    "import random\n",
    "np.random.seed(0)\n",
    "random.seed(0)"
   ]
  },
  {
   "attachments": {},
   "cell_type": "markdown",
   "metadata": {
    "papermill": {
     "duration": 0.031168,
     "end_time": "2021-03-31T10:06:44.165692",
     "exception": false,
     "start_time": "2021-03-31T10:06:44.134524",
     "status": "completed"
    },
    "tags": []
   },
   "source": [
    "**Titanic data input**"
   ]
  },
  {
   "cell_type": "code",
   "execution_count": 7,
   "metadata": {
    "execution": {
     "iopub.execute_input": "2021-03-31T10:06:44.230315Z",
     "iopub.status.busy": "2021-03-31T10:06:44.229529Z",
     "iopub.status.idle": "2021-03-31T10:06:44.309391Z",
     "shell.execute_reply": "2021-03-31T10:06:44.310255Z"
    },
    "papermill": {
     "duration": 0.116009,
     "end_time": "2021-03-31T10:06:44.310513",
     "exception": false,
     "start_time": "2021-03-31T10:06:44.194504",
     "status": "completed"
    },
    "tags": []
   },
   "outputs": [
    {
     "data": {
      "text/html": [
       "<div>\n",
       "<style scoped>\n",
       "    .dataframe tbody tr th:only-of-type {\n",
       "        vertical-align: middle;\n",
       "    }\n",
       "\n",
       "    .dataframe tbody tr th {\n",
       "        vertical-align: top;\n",
       "    }\n",
       "\n",
       "    .dataframe thead th {\n",
       "        text-align: right;\n",
       "    }\n",
       "</style>\n",
       "<table border=\"1\" class=\"dataframe\">\n",
       "  <thead>\n",
       "    <tr style=\"text-align: right;\">\n",
       "      <th></th>\n",
       "      <th>PassengerId</th>\n",
       "      <th>Survived</th>\n",
       "      <th>Pclass</th>\n",
       "      <th>Name</th>\n",
       "      <th>Sex</th>\n",
       "      <th>Age</th>\n",
       "      <th>SibSp</th>\n",
       "      <th>Parch</th>\n",
       "      <th>Ticket</th>\n",
       "      <th>Fare</th>\n",
       "      <th>Cabin</th>\n",
       "      <th>Embarked</th>\n",
       "    </tr>\n",
       "  </thead>\n",
       "  <tbody>\n",
       "    <tr>\n",
       "      <th>0</th>\n",
       "      <td>1</td>\n",
       "      <td>0</td>\n",
       "      <td>3</td>\n",
       "      <td>Braund, Mr. Owen Harris</td>\n",
       "      <td>male</td>\n",
       "      <td>22.0</td>\n",
       "      <td>1</td>\n",
       "      <td>0</td>\n",
       "      <td>A/5 21171</td>\n",
       "      <td>7.2500</td>\n",
       "      <td>NaN</td>\n",
       "      <td>S</td>\n",
       "    </tr>\n",
       "    <tr>\n",
       "      <th>1</th>\n",
       "      <td>2</td>\n",
       "      <td>1</td>\n",
       "      <td>1</td>\n",
       "      <td>Cumings, Mrs. John Bradley (Florence Briggs Th...</td>\n",
       "      <td>female</td>\n",
       "      <td>38.0</td>\n",
       "      <td>1</td>\n",
       "      <td>0</td>\n",
       "      <td>PC 17599</td>\n",
       "      <td>71.2833</td>\n",
       "      <td>C85</td>\n",
       "      <td>C</td>\n",
       "    </tr>\n",
       "    <tr>\n",
       "      <th>2</th>\n",
       "      <td>3</td>\n",
       "      <td>1</td>\n",
       "      <td>3</td>\n",
       "      <td>Heikkinen, Miss. Laina</td>\n",
       "      <td>female</td>\n",
       "      <td>26.0</td>\n",
       "      <td>0</td>\n",
       "      <td>0</td>\n",
       "      <td>STON/O2. 3101282</td>\n",
       "      <td>7.9250</td>\n",
       "      <td>NaN</td>\n",
       "      <td>S</td>\n",
       "    </tr>\n",
       "    <tr>\n",
       "      <th>3</th>\n",
       "      <td>4</td>\n",
       "      <td>1</td>\n",
       "      <td>1</td>\n",
       "      <td>Futrelle, Mrs. Jacques Heath (Lily May Peel)</td>\n",
       "      <td>female</td>\n",
       "      <td>35.0</td>\n",
       "      <td>1</td>\n",
       "      <td>0</td>\n",
       "      <td>113803</td>\n",
       "      <td>53.1000</td>\n",
       "      <td>C123</td>\n",
       "      <td>S</td>\n",
       "    </tr>\n",
       "    <tr>\n",
       "      <th>4</th>\n",
       "      <td>5</td>\n",
       "      <td>0</td>\n",
       "      <td>3</td>\n",
       "      <td>Allen, Mr. William Henry</td>\n",
       "      <td>male</td>\n",
       "      <td>35.0</td>\n",
       "      <td>0</td>\n",
       "      <td>0</td>\n",
       "      <td>373450</td>\n",
       "      <td>8.0500</td>\n",
       "      <td>NaN</td>\n",
       "      <td>S</td>\n",
       "    </tr>\n",
       "  </tbody>\n",
       "</table>\n",
       "</div>"
      ],
      "text/plain": [
       "   PassengerId  Survived  Pclass  \\\n",
       "0            1         0       3   \n",
       "1            2         1       1   \n",
       "2            3         1       3   \n",
       "3            4         1       1   \n",
       "4            5         0       3   \n",
       "\n",
       "                                                Name     Sex   Age  SibSp  \\\n",
       "0                            Braund, Mr. Owen Harris    male  22.0      1   \n",
       "1  Cumings, Mrs. John Bradley (Florence Briggs Th...  female  38.0      1   \n",
       "2                             Heikkinen, Miss. Laina  female  26.0      0   \n",
       "3       Futrelle, Mrs. Jacques Heath (Lily May Peel)  female  35.0      1   \n",
       "4                           Allen, Mr. William Henry    male  35.0      0   \n",
       "\n",
       "   Parch            Ticket     Fare Cabin Embarked  \n",
       "0      0         A/5 21171   7.2500   NaN        S  \n",
       "1      0          PC 17599  71.2833   C85        C  \n",
       "2      0  STON/O2. 3101282   7.9250   NaN        S  \n",
       "3      0            113803  53.1000  C123        S  \n",
       "4      0            373450   8.0500   NaN        S  "
      ]
     },
     "execution_count": 7,
     "metadata": {},
     "output_type": "execute_result"
    }
   ],
   "source": [
    "train = pd.read_csv(\"../datasource/titanic/train.csv\")\n",
    "test = pd.read_csv(\"../datasource/titanic/test.csv\")\n",
    "train.head()"
   ]
  },
  {
   "cell_type": "code",
   "execution_count": 8,
   "metadata": {
    "execution": {
     "iopub.execute_input": "2021-03-31T10:06:44.458020Z",
     "iopub.status.busy": "2021-03-31T10:06:44.456430Z",
     "iopub.status.idle": "2021-03-31T10:06:44.462882Z",
     "shell.execute_reply": "2021-03-31T10:06:44.462348Z"
    },
    "papermill": {
     "duration": 0.040951,
     "end_time": "2021-03-31T10:06:44.463059",
     "exception": false,
     "start_time": "2021-03-31T10:06:44.422108",
     "status": "completed"
    },
    "tags": []
   },
   "outputs": [],
   "source": [
    "import warnings\n",
    "warnings.filterwarnings(\"ignore\")"
   ]
  },
  {
   "attachments": {},
   "cell_type": "markdown",
   "metadata": {
    "papermill": {
     "duration": 0.032152,
     "end_time": "2021-03-31T10:06:44.524642",
     "exception": false,
     "start_time": "2021-03-31T10:06:44.492490",
     "status": "completed"
    },
    "tags": []
   },
   "source": [
    "**Categorical data　→ Dummy variable**"
   ]
  },
  {
   "attachments": {},
   "cell_type": "markdown",
   "metadata": {
    "papermill": {
     "duration": 0.028489,
     "end_time": "2021-03-31T10:06:44.583385",
     "exception": false,
     "start_time": "2021-03-31T10:06:44.554896",
     "status": "completed"
    },
    "tags": []
   },
   "source": [
    "male:0 female:1"
   ]
  },
  {
   "cell_type": "code",
   "execution_count": 9,
   "metadata": {
    "execution": {
     "iopub.execute_input": "2021-03-31T10:06:44.662966Z",
     "iopub.status.busy": "2021-03-31T10:06:44.661971Z",
     "iopub.status.idle": "2021-03-31T10:06:44.664697Z",
     "shell.execute_reply": "2021-03-31T10:06:44.665290Z"
    },
    "papermill": {
     "duration": 0.051307,
     "end_time": "2021-03-31T10:06:44.665469",
     "exception": false,
     "start_time": "2021-03-31T10:06:44.614162",
     "status": "completed"
    },
    "tags": []
   },
   "outputs": [],
   "source": [
    "train[\"Sex\"][train[\"Sex\"] == \"male\"] = 0\n",
    "train[\"Sex\"][train[\"Sex\"] == \"female\"] = 1\n",
    "test[\"Sex\"][test[\"Sex\"] == \"male\"] = 0\n",
    "test[\"Sex\"][test[\"Sex\"] == \"female\"] = 1"
   ]
  },
  {
   "attachments": {},
   "cell_type": "markdown",
   "metadata": {
    "papermill": {
     "duration": 0.030405,
     "end_time": "2021-03-31T10:06:44.724578",
     "exception": false,
     "start_time": "2021-03-31T10:06:44.694173",
     "status": "completed"
    },
    "tags": []
   },
   "source": [
    "S:0 C:1 Q:2"
   ]
  },
  {
   "cell_type": "code",
   "execution_count": 10,
   "metadata": {
    "execution": {
     "iopub.execute_input": "2021-03-31T10:06:44.790539Z",
     "iopub.status.busy": "2021-03-31T10:06:44.788987Z",
     "iopub.status.idle": "2021-03-31T10:06:44.812015Z",
     "shell.execute_reply": "2021-03-31T10:06:44.812613Z"
    },
    "papermill": {
     "duration": 0.057557,
     "end_time": "2021-03-31T10:06:44.812794",
     "exception": false,
     "start_time": "2021-03-31T10:06:44.755237",
     "status": "completed"
    },
    "tags": []
   },
   "outputs": [],
   "source": [
    "train[\"Embarked\"][train[\"Embarked\"]== \"S\"] = 0\n",
    "train[\"Embarked\"][train[\"Embarked\"]== \"C\"] =1\n",
    "train[\"Embarked\"][train[\"Embarked\"]== \"Q\"] =2\n",
    "test[\"Embarked\"][test[\"Embarked\"]== \"S\"] = 0\n",
    "test[\"Embarked\"][test[\"Embarked\"]== \"C\"] =1\n",
    "test[\"Embarked\"][test[\"Embarked\"]== \"Q\"] =2"
   ]
  },
  {
   "attachments": {},
   "cell_type": "markdown",
   "metadata": {
    "papermill": {
     "duration": 0.033736,
     "end_time": "2021-03-31T10:06:44.876629",
     "exception": false,
     "start_time": "2021-03-31T10:06:44.842893",
     "status": "completed"
    },
    "tags": []
   },
   "source": [
    "**Data arrange**"
   ]
  },
  {
   "cell_type": "code",
   "execution_count": 11,
   "metadata": {
    "execution": {
     "iopub.execute_input": "2021-03-31T10:06:44.952389Z",
     "iopub.status.busy": "2021-03-31T10:06:44.951325Z",
     "iopub.status.idle": "2021-03-31T10:06:44.956993Z",
     "shell.execute_reply": "2021-03-31T10:06:44.956335Z"
    },
    "papermill": {
     "duration": 0.052132,
     "end_time": "2021-03-31T10:06:44.957159",
     "exception": false,
     "start_time": "2021-03-31T10:06:44.905027",
     "status": "completed"
    },
    "tags": []
   },
   "outputs": [
    {
     "data": {
      "text/html": [
       "<div>\n",
       "<style scoped>\n",
       "    .dataframe tbody tr th:only-of-type {\n",
       "        vertical-align: middle;\n",
       "    }\n",
       "\n",
       "    .dataframe tbody tr th {\n",
       "        vertical-align: top;\n",
       "    }\n",
       "\n",
       "    .dataframe thead th {\n",
       "        text-align: right;\n",
       "    }\n",
       "</style>\n",
       "<table border=\"1\" class=\"dataframe\">\n",
       "  <thead>\n",
       "    <tr style=\"text-align: right;\">\n",
       "      <th></th>\n",
       "      <th>Survived</th>\n",
       "      <th>Age</th>\n",
       "      <th>Pclass</th>\n",
       "      <th>Sex</th>\n",
       "      <th>SibSp</th>\n",
       "      <th>Parch</th>\n",
       "      <th>Fare</th>\n",
       "      <th>Embarked</th>\n",
       "    </tr>\n",
       "  </thead>\n",
       "  <tbody>\n",
       "    <tr>\n",
       "      <th>0</th>\n",
       "      <td>0</td>\n",
       "      <td>22.0</td>\n",
       "      <td>3</td>\n",
       "      <td>0</td>\n",
       "      <td>1</td>\n",
       "      <td>0</td>\n",
       "      <td>7.2500</td>\n",
       "      <td>0</td>\n",
       "    </tr>\n",
       "    <tr>\n",
       "      <th>1</th>\n",
       "      <td>1</td>\n",
       "      <td>38.0</td>\n",
       "      <td>1</td>\n",
       "      <td>1</td>\n",
       "      <td>1</td>\n",
       "      <td>0</td>\n",
       "      <td>71.2833</td>\n",
       "      <td>1</td>\n",
       "    </tr>\n",
       "    <tr>\n",
       "      <th>2</th>\n",
       "      <td>1</td>\n",
       "      <td>26.0</td>\n",
       "      <td>3</td>\n",
       "      <td>1</td>\n",
       "      <td>0</td>\n",
       "      <td>0</td>\n",
       "      <td>7.9250</td>\n",
       "      <td>0</td>\n",
       "    </tr>\n",
       "    <tr>\n",
       "      <th>3</th>\n",
       "      <td>1</td>\n",
       "      <td>35.0</td>\n",
       "      <td>1</td>\n",
       "      <td>1</td>\n",
       "      <td>1</td>\n",
       "      <td>0</td>\n",
       "      <td>53.1000</td>\n",
       "      <td>0</td>\n",
       "    </tr>\n",
       "    <tr>\n",
       "      <th>4</th>\n",
       "      <td>0</td>\n",
       "      <td>35.0</td>\n",
       "      <td>3</td>\n",
       "      <td>0</td>\n",
       "      <td>0</td>\n",
       "      <td>0</td>\n",
       "      <td>8.0500</td>\n",
       "      <td>0</td>\n",
       "    </tr>\n",
       "  </tbody>\n",
       "</table>\n",
       "</div>"
      ],
      "text/plain": [
       "   Survived   Age  Pclass Sex  SibSp  Parch     Fare Embarked\n",
       "0         0  22.0       3   0      1      0   7.2500        0\n",
       "1         1  38.0       1   1      1      0  71.2833        1\n",
       "2         1  26.0       3   1      0      0   7.9250        0\n",
       "3         1  35.0       1   1      1      0  53.1000        0\n",
       "4         0  35.0       3   0      0      0   8.0500        0"
      ]
     },
     "execution_count": 11,
     "metadata": {},
     "output_type": "execute_result"
    }
   ],
   "source": [
    "data1 = train.loc[:,[\"Survived\",\"Age\",\"Pclass\",\"Sex\",\"SibSp\",\"Parch\",\"Fare\",\"Embarked\"]]\n",
    "data1[\"Age\"] = data1[\"Age\"].fillna(data1[\"Age\"].mean())\n",
    "\n",
    "data1.head()"
   ]
  },
  {
   "attachments": {},
   "cell_type": "markdown",
   "metadata": {
    "papermill": {
     "duration": 0.031008,
     "end_time": "2021-03-31T10:06:45.017220",
     "exception": false,
     "start_time": "2021-03-31T10:06:44.986212",
     "status": "completed"
    },
    "tags": []
   },
   "source": [
    "**Confirmation of missing values**"
   ]
  },
  {
   "cell_type": "code",
   "execution_count": 12,
   "metadata": {
    "execution": {
     "iopub.execute_input": "2021-03-31T10:06:45.085387Z",
     "iopub.status.busy": "2021-03-31T10:06:45.084339Z",
     "iopub.status.idle": "2021-03-31T10:06:45.088385Z",
     "shell.execute_reply": "2021-03-31T10:06:45.088933Z"
    },
    "papermill": {
     "duration": 0.042295,
     "end_time": "2021-03-31T10:06:45.089132",
     "exception": false,
     "start_time": "2021-03-31T10:06:45.046837",
     "status": "completed"
    },
    "tags": []
   },
   "outputs": [
    {
     "data": {
      "text/plain": [
       "Survived    0\n",
       "Age         0\n",
       "Pclass      0\n",
       "Sex         0\n",
       "SibSp       0\n",
       "Parch       0\n",
       "Fare        0\n",
       "Embarked    2\n",
       "dtype: int64"
      ]
     },
     "execution_count": 12,
     "metadata": {},
     "output_type": "execute_result"
    }
   ],
   "source": [
    "data1.isnull().sum()"
   ]
  },
  {
   "attachments": {},
   "cell_type": "markdown",
   "metadata": {
    "papermill": {
     "duration": 0.028096,
     "end_time": "2021-03-31T10:06:45.146494",
     "exception": false,
     "start_time": "2021-03-31T10:06:45.118398",
     "status": "completed"
    },
    "tags": []
   },
   "source": [
    "Correlation matrix"
   ]
  },
  {
   "cell_type": "code",
   "execution_count": 13,
   "metadata": {
    "execution": {
     "iopub.execute_input": "2021-03-31T10:06:45.210435Z",
     "iopub.status.busy": "2021-03-31T10:06:45.209449Z",
     "iopub.status.idle": "2021-03-31T10:06:45.232957Z",
     "shell.execute_reply": "2021-03-31T10:06:45.232280Z"
    },
    "papermill": {
     "duration": 0.056603,
     "end_time": "2021-03-31T10:06:45.233162",
     "exception": false,
     "start_time": "2021-03-31T10:06:45.176559",
     "status": "completed"
    },
    "tags": []
   },
   "outputs": [
    {
     "data": {
      "text/html": [
       "<div>\n",
       "<style scoped>\n",
       "    .dataframe tbody tr th:only-of-type {\n",
       "        vertical-align: middle;\n",
       "    }\n",
       "\n",
       "    .dataframe tbody tr th {\n",
       "        vertical-align: top;\n",
       "    }\n",
       "\n",
       "    .dataframe thead th {\n",
       "        text-align: right;\n",
       "    }\n",
       "</style>\n",
       "<table border=\"1\" class=\"dataframe\">\n",
       "  <thead>\n",
       "    <tr style=\"text-align: right;\">\n",
       "      <th></th>\n",
       "      <th>Survived</th>\n",
       "      <th>Age</th>\n",
       "      <th>Pclass</th>\n",
       "      <th>SibSp</th>\n",
       "      <th>Parch</th>\n",
       "      <th>Fare</th>\n",
       "    </tr>\n",
       "  </thead>\n",
       "  <tbody>\n",
       "    <tr>\n",
       "      <th>Survived</th>\n",
       "      <td>1.000000</td>\n",
       "      <td>-0.069809</td>\n",
       "      <td>-0.338481</td>\n",
       "      <td>-0.035322</td>\n",
       "      <td>0.081629</td>\n",
       "      <td>0.257307</td>\n",
       "    </tr>\n",
       "    <tr>\n",
       "      <th>Age</th>\n",
       "      <td>-0.069809</td>\n",
       "      <td>1.000000</td>\n",
       "      <td>-0.331339</td>\n",
       "      <td>-0.232625</td>\n",
       "      <td>-0.179191</td>\n",
       "      <td>0.091566</td>\n",
       "    </tr>\n",
       "    <tr>\n",
       "      <th>Pclass</th>\n",
       "      <td>-0.338481</td>\n",
       "      <td>-0.331339</td>\n",
       "      <td>1.000000</td>\n",
       "      <td>0.083081</td>\n",
       "      <td>0.018443</td>\n",
       "      <td>-0.549500</td>\n",
       "    </tr>\n",
       "    <tr>\n",
       "      <th>SibSp</th>\n",
       "      <td>-0.035322</td>\n",
       "      <td>-0.232625</td>\n",
       "      <td>0.083081</td>\n",
       "      <td>1.000000</td>\n",
       "      <td>0.414838</td>\n",
       "      <td>0.159651</td>\n",
       "    </tr>\n",
       "    <tr>\n",
       "      <th>Parch</th>\n",
       "      <td>0.081629</td>\n",
       "      <td>-0.179191</td>\n",
       "      <td>0.018443</td>\n",
       "      <td>0.414838</td>\n",
       "      <td>1.000000</td>\n",
       "      <td>0.216225</td>\n",
       "    </tr>\n",
       "    <tr>\n",
       "      <th>Fare</th>\n",
       "      <td>0.257307</td>\n",
       "      <td>0.091566</td>\n",
       "      <td>-0.549500</td>\n",
       "      <td>0.159651</td>\n",
       "      <td>0.216225</td>\n",
       "      <td>1.000000</td>\n",
       "    </tr>\n",
       "  </tbody>\n",
       "</table>\n",
       "</div>"
      ],
      "text/plain": [
       "          Survived       Age    Pclass     SibSp     Parch      Fare\n",
       "Survived  1.000000 -0.069809 -0.338481 -0.035322  0.081629  0.257307\n",
       "Age      -0.069809  1.000000 -0.331339 -0.232625 -0.179191  0.091566\n",
       "Pclass   -0.338481 -0.331339  1.000000  0.083081  0.018443 -0.549500\n",
       "SibSp    -0.035322 -0.232625  0.083081  1.000000  0.414838  0.159651\n",
       "Parch     0.081629 -0.179191  0.018443  0.414838  1.000000  0.216225\n",
       "Fare      0.257307  0.091566 -0.549500  0.159651  0.216225  1.000000"
      ]
     },
     "execution_count": 13,
     "metadata": {},
     "output_type": "execute_result"
    }
   ],
   "source": [
    "corr_matrix = data1.corr()\n",
    "corr_matrix.to_csv(\"Correlation matrix.csv\")\n",
    "corr_matrix"
   ]
  },
  {
   "attachments": {},
   "cell_type": "markdown",
   "metadata": {
    "papermill": {
     "duration": 0.029102,
     "end_time": "2021-03-31T10:06:45.293624",
     "exception": false,
     "start_time": "2021-03-31T10:06:45.264522",
     "status": "completed"
    },
    "tags": []
   },
   "source": [
    "Correlation coefficient　heatmap"
   ]
  },
  {
   "cell_type": "code",
   "execution_count": 14,
   "metadata": {
    "execution": {
     "iopub.execute_input": "2021-03-31T10:06:45.371796Z",
     "iopub.status.busy": "2021-03-31T10:06:45.370883Z",
     "iopub.status.idle": "2021-03-31T10:06:46.943533Z",
     "shell.execute_reply": "2021-03-31T10:06:46.944166Z"
    },
    "papermill": {
     "duration": 1.621079,
     "end_time": "2021-03-31T10:06:46.944380",
     "exception": false,
     "start_time": "2021-03-31T10:06:45.323301",
     "status": "completed"
    },
    "tags": []
   },
   "outputs": [
    {
     "data": {
      "text/plain": [
       "Text(0.5, -0.25, 'Correlation coefficient heatmap')"
      ]
     },
     "execution_count": 14,
     "metadata": {},
     "output_type": "execute_result"
    },
    {
     "data": {
      "image/png": "[encoded data removed]",
      "text/plain": [
       "<Figure size 640x480 with 2 Axes>"
      ]
     },
     "metadata": {},
     "output_type": "display_data"
    }
   ],
   "source": [
    "import matplotlib.pyplot as plt\n",
    "import seaborn as sns\n",
    "sns.heatmap(corr_matrix,\n",
    "           square=True,\n",
    "           cmap=\"coolwarm\",\n",
    "           xticklabels = corr_matrix.columns.values,\n",
    "           yticklabels = corr_matrix.columns.values)\n",
    "plt.title(\"Correlation coefficient heatmap\", y=-0.25)\n",
    "# plt.savefig(\"Correlation coefficient　heatmap\")"
   ]
  },
  {
   "attachments": {},
   "cell_type": "markdown",
   "metadata": {
    "papermill": {
     "duration": 0.032948,
     "end_time": "2021-03-31T10:06:47.010172",
     "exception": false,
     "start_time": "2021-03-31T10:06:46.977224",
     "status": "completed"
    },
    "tags": []
   },
   "source": [
    "Correlation Survived"
   ]
  },
  {
   "cell_type": "code",
   "execution_count": 15,
   "metadata": {},
   "outputs": [
    {
     "data": {
      "text/plain": [
       "Survived    1.000000\n",
       "Fare        0.257307\n",
       "Parch       0.081629\n",
       "SibSp      -0.035322\n",
       "Age        -0.069809\n",
       "Pclass     -0.338481\n",
       "Name: Survived, dtype: float64"
      ]
     },
     "execution_count": 15,
     "metadata": {},
     "output_type": "execute_result"
    }
   ],
   "source": [
    "corr_matrix[\"Survived\"].sort_values(ascending=False)"
   ]
  },
  {
   "cell_type": "code",
   "execution_count": 16,
   "metadata": {
    "execution": {
     "iopub.execute_input": "2021-03-31T10:06:47.077637Z",
     "iopub.status.busy": "2021-03-31T10:06:47.076943Z",
     "iopub.status.idle": "2021-03-31T10:06:47.092820Z",
     "shell.execute_reply": "2021-03-31T10:06:47.093383Z"
    },
    "papermill": {
     "duration": 0.051576,
     "end_time": "2021-03-31T10:06:47.093566",
     "exception": false,
     "start_time": "2021-03-31T10:06:47.041990",
     "status": "completed"
    },
    "tags": []
   },
   "outputs": [
    {
     "data": {
      "text/html": [
       "<div>\n",
       "<style scoped>\n",
       "    .dataframe tbody tr th:only-of-type {\n",
       "        vertical-align: middle;\n",
       "    }\n",
       "\n",
       "    .dataframe tbody tr th {\n",
       "        vertical-align: top;\n",
       "    }\n",
       "\n",
       "    .dataframe thead th {\n",
       "        text-align: right;\n",
       "    }\n",
       "</style>\n",
       "<table border=\"1\" class=\"dataframe\">\n",
       "  <thead>\n",
       "    <tr style=\"text-align: right;\">\n",
       "      <th></th>\n",
       "      <th>features</th>\n",
       "      <th>corr_y</th>\n",
       "    </tr>\n",
       "  </thead>\n",
       "  <tbody>\n",
       "    <tr>\n",
       "      <th>0</th>\n",
       "      <td>Survived</td>\n",
       "      <td>1.000000</td>\n",
       "    </tr>\n",
       "    <tr>\n",
       "      <th>1</th>\n",
       "      <td>Age</td>\n",
       "      <td>-0.069809</td>\n",
       "    </tr>\n",
       "    <tr>\n",
       "      <th>2</th>\n",
       "      <td>Pclass</td>\n",
       "      <td>-0.338481</td>\n",
       "    </tr>\n",
       "    <tr>\n",
       "      <th>3</th>\n",
       "      <td>SibSp</td>\n",
       "      <td>-0.035322</td>\n",
       "    </tr>\n",
       "    <tr>\n",
       "      <th>4</th>\n",
       "      <td>Parch</td>\n",
       "      <td>0.081629</td>\n",
       "    </tr>\n",
       "    <tr>\n",
       "      <th>5</th>\n",
       "      <td>Fare</td>\n",
       "      <td>0.257307</td>\n",
       "    </tr>\n",
       "  </tbody>\n",
       "</table>\n",
       "</div>"
      ],
      "text/plain": [
       "   features    corr_y\n",
       "0  Survived  1.000000\n",
       "1       Age -0.069809\n",
       "2    Pclass -0.338481\n",
       "3     SibSp -0.035322\n",
       "4     Parch  0.081629\n",
       "5      Fare  0.257307"
      ]
     },
     "execution_count": 16,
     "metadata": {},
     "output_type": "execute_result"
    }
   ],
   "source": [
    "corr_y = pd.DataFrame({\"features\":[\"Survived\",\"Age\",\"Pclass\",\"SibSp\",\"Parch\",\"Fare\"],\"corr_y\":corr_matrix[\"Survived\"]},index=None)\n",
    "# corr_y = pd.DataFrame({\"features\":[\"Survived\",\"Age\",\"Pclass\",\"SibSp\",\"Parch\",\"Fare\",'Sex',\"Embarked\"],\"corr_y\":corr_matrix[\"Survived\"]},index=None)\n",
    "corr_y = corr_y.reset_index(drop=True)\n",
    "# corr_y.to_csv(\"Correlation Survived.csv\")\n",
    "corr_y"
   ]
  },
  {
   "attachments": {},
   "cell_type": "markdown",
   "metadata": {
    "papermill": {
     "duration": 0.032505,
     "end_time": "2021-03-31T10:06:47.157121",
     "exception": false,
     "start_time": "2021-03-31T10:06:47.124616",
     "status": "completed"
    },
    "tags": []
   },
   "source": [
    "**Partial correlation matrix**"
   ]
  },
  {
   "cell_type": "code",
   "execution_count": 17,
   "metadata": {
    "execution": {
     "iopub.execute_input": "2021-03-31T10:06:47.242148Z",
     "iopub.status.busy": "2021-03-31T10:06:47.226891Z",
     "iopub.status.idle": "2021-03-31T10:07:03.279579Z",
     "shell.execute_reply": "2021-03-31T10:07:03.278726Z"
    },
    "papermill": {
     "duration": 16.088889,
     "end_time": "2021-03-31T10:07:03.279731",
     "exception": false,
     "start_time": "2021-03-31T10:06:47.190842",
     "status": "completed"
    },
    "tags": []
   },
   "outputs": [],
   "source": [
    "# !pip install pingouin"
   ]
  },
  {
   "cell_type": "code",
   "execution_count": 18,
   "metadata": {
    "execution": {
     "iopub.execute_input": "2021-03-31T10:07:03.376517Z",
     "iopub.status.busy": "2021-03-31T10:07:03.375775Z",
     "iopub.status.idle": "2021-03-31T10:07:04.473723Z",
     "shell.execute_reply": "2021-03-31T10:07:04.474254Z"
    },
    "papermill": {
     "duration": 1.152913,
     "end_time": "2021-03-31T10:07:04.474455",
     "exception": false,
     "start_time": "2021-03-31T10:07:03.321542",
     "status": "completed"
    },
    "tags": []
   },
   "outputs": [
    {
     "data": {
      "text/html": [
       "<div>\n",
       "<style scoped>\n",
       "    .dataframe tbody tr th:only-of-type {\n",
       "        vertical-align: middle;\n",
       "    }\n",
       "\n",
       "    .dataframe tbody tr th {\n",
       "        vertical-align: top;\n",
       "    }\n",
       "\n",
       "    .dataframe thead th {\n",
       "        text-align: right;\n",
       "    }\n",
       "</style>\n",
       "<table border=\"1\" class=\"dataframe\">\n",
       "  <thead>\n",
       "    <tr style=\"text-align: right;\">\n",
       "      <th></th>\n",
       "      <th>Survived</th>\n",
       "      <th>Age</th>\n",
       "      <th>Pclass</th>\n",
       "      <th>SibSp</th>\n",
       "      <th>Parch</th>\n",
       "      <th>Fare</th>\n",
       "    </tr>\n",
       "  </thead>\n",
       "  <tbody>\n",
       "    <tr>\n",
       "      <th>Survived</th>\n",
       "      <td>1.000</td>\n",
       "      <td>-0.200</td>\n",
       "      <td>-0.289</td>\n",
       "      <td>-0.094</td>\n",
       "      <td>0.072</td>\n",
       "      <td>0.069</td>\n",
       "    </tr>\n",
       "    <tr>\n",
       "      <th>Age</th>\n",
       "      <td>-0.200</td>\n",
       "      <td>1.000</td>\n",
       "      <td>-0.333</td>\n",
       "      <td>-0.165</td>\n",
       "      <td>-0.078</td>\n",
       "      <td>-0.031</td>\n",
       "    </tr>\n",
       "    <tr>\n",
       "      <th>Pclass</th>\n",
       "      <td>-0.289</td>\n",
       "      <td>-0.333</td>\n",
       "      <td>1.000</td>\n",
       "      <td>0.071</td>\n",
       "      <td>0.082</td>\n",
       "      <td>-0.519</td>\n",
       "    </tr>\n",
       "    <tr>\n",
       "      <th>SibSp</th>\n",
       "      <td>-0.094</td>\n",
       "      <td>-0.165</td>\n",
       "      <td>0.071</td>\n",
       "      <td>1.000</td>\n",
       "      <td>0.357</td>\n",
       "      <td>0.150</td>\n",
       "    </tr>\n",
       "    <tr>\n",
       "      <th>Parch</th>\n",
       "      <td>0.072</td>\n",
       "      <td>-0.078</td>\n",
       "      <td>0.082</td>\n",
       "      <td>0.357</td>\n",
       "      <td>1.000</td>\n",
       "      <td>0.180</td>\n",
       "    </tr>\n",
       "    <tr>\n",
       "      <th>Fare</th>\n",
       "      <td>0.069</td>\n",
       "      <td>-0.031</td>\n",
       "      <td>-0.519</td>\n",
       "      <td>0.150</td>\n",
       "      <td>0.180</td>\n",
       "      <td>1.000</td>\n",
       "    </tr>\n",
       "  </tbody>\n",
       "</table>\n",
       "</div>"
      ],
      "text/plain": [
       "          Survived    Age  Pclass  SibSp  Parch   Fare\n",
       "Survived     1.000 -0.200  -0.289 -0.094  0.072  0.069\n",
       "Age         -0.200  1.000  -0.333 -0.165 -0.078 -0.031\n",
       "Pclass      -0.289 -0.333   1.000  0.071  0.082 -0.519\n",
       "SibSp       -0.094 -0.165   0.071  1.000  0.357  0.150\n",
       "Parch        0.072 -0.078   0.082  0.357  1.000  0.180\n",
       "Fare         0.069 -0.031  -0.519  0.150  0.180  1.000"
      ]
     },
     "execution_count": 18,
     "metadata": {},
     "output_type": "execute_result"
    }
   ],
   "source": [
    "import pingouin\n",
    "pcorr_matrix = data1.pcorr().round(3)\n",
    "# pcorr_matrix.to_csv(\"Partial correlation matrix.csv\")\n",
    "pcorr_matrix"
   ]
  },
  {
   "attachments": {},
   "cell_type": "markdown",
   "metadata": {
    "papermill": {
     "duration": 0.042623,
     "end_time": "2021-03-31T10:07:04.560500",
     "exception": false,
     "start_time": "2021-03-31T10:07:04.517877",
     "status": "completed"
    },
    "tags": []
   },
   "source": [
    "Partial correlation heatmap"
   ]
  },
  {
   "cell_type": "code",
   "execution_count": 19,
   "metadata": {
    "execution": {
     "iopub.execute_input": "2021-03-31T10:07:04.676584Z",
     "iopub.status.busy": "2021-03-31T10:07:04.674660Z",
     "iopub.status.idle": "2021-03-31T10:07:04.991875Z",
     "shell.execute_reply": "2021-03-31T10:07:04.991138Z"
    },
    "papermill": {
     "duration": 0.389908,
     "end_time": "2021-03-31T10:07:04.992060",
     "exception": false,
     "start_time": "2021-03-31T10:07:04.602152",
     "status": "completed"
    },
    "tags": []
   },
   "outputs": [
    {
     "data": {
      "image/png": "[encoded data removed]",
      "text/plain": [
       "<Figure size 640x480 with 2 Axes>"
      ]
     },
     "metadata": {},
     "output_type": "display_data"
    }
   ],
   "source": [
    "sns.heatmap(pcorr_matrix,\n",
    "           square=True,\n",
    "           cmap=\"coolwarm\",\n",
    "           xticklabels = corr_matrix.columns.values,\n",
    "           yticklabels = corr_matrix.columns.values)\n",
    "plt.title(\"Partial correlation heatmap\", y=-0.25)\n",
    "plt.savefig(\"Partial correlation heatmap\")"
   ]
  },
  {
   "attachments": {},
   "cell_type": "markdown",
   "metadata": {
    "papermill": {
     "duration": 0.044276,
     "end_time": "2021-03-31T10:07:05.082920",
     "exception": false,
     "start_time": "2021-03-31T10:07:05.038644",
     "status": "completed"
    },
    "tags": []
   },
   "source": [
    "Partial correlation Survived"
   ]
  },
  {
   "cell_type": "code",
   "execution_count": 20,
   "metadata": {
    "execution": {
     "iopub.execute_input": "2021-03-31T10:07:05.180869Z",
     "iopub.status.busy": "2021-03-31T10:07:05.179819Z",
     "iopub.status.idle": "2021-03-31T10:07:05.193531Z",
     "shell.execute_reply": "2021-03-31T10:07:05.192887Z"
    },
    "papermill": {
     "duration": 0.066129,
     "end_time": "2021-03-31T10:07:05.193683",
     "exception": false,
     "start_time": "2021-03-31T10:07:05.127554",
     "status": "completed"
    },
    "tags": []
   },
   "outputs": [
    {
     "data": {
      "text/html": [
       "<div>\n",
       "<style scoped>\n",
       "    .dataframe tbody tr th:only-of-type {\n",
       "        vertical-align: middle;\n",
       "    }\n",
       "\n",
       "    .dataframe tbody tr th {\n",
       "        vertical-align: top;\n",
       "    }\n",
       "\n",
       "    .dataframe thead th {\n",
       "        text-align: right;\n",
       "    }\n",
       "</style>\n",
       "<table border=\"1\" class=\"dataframe\">\n",
       "  <thead>\n",
       "    <tr style=\"text-align: right;\">\n",
       "      <th></th>\n",
       "      <th>features</th>\n",
       "      <th>pcorr_y</th>\n",
       "    </tr>\n",
       "  </thead>\n",
       "  <tbody>\n",
       "    <tr>\n",
       "      <th>0</th>\n",
       "      <td>Survived</td>\n",
       "      <td>1.000</td>\n",
       "    </tr>\n",
       "    <tr>\n",
       "      <th>1</th>\n",
       "      <td>Age</td>\n",
       "      <td>-0.200</td>\n",
       "    </tr>\n",
       "    <tr>\n",
       "      <th>2</th>\n",
       "      <td>Pclass</td>\n",
       "      <td>-0.289</td>\n",
       "    </tr>\n",
       "    <tr>\n",
       "      <th>3</th>\n",
       "      <td>SibSp</td>\n",
       "      <td>-0.094</td>\n",
       "    </tr>\n",
       "    <tr>\n",
       "      <th>4</th>\n",
       "      <td>Parch</td>\n",
       "      <td>0.072</td>\n",
       "    </tr>\n",
       "    <tr>\n",
       "      <th>5</th>\n",
       "      <td>Fare</td>\n",
       "      <td>0.069</td>\n",
       "    </tr>\n",
       "  </tbody>\n",
       "</table>\n",
       "</div>"
      ],
      "text/plain": [
       "   features  pcorr_y\n",
       "0  Survived    1.000\n",
       "1       Age   -0.200\n",
       "2    Pclass   -0.289\n",
       "3     SibSp   -0.094\n",
       "4     Parch    0.072\n",
       "5      Fare    0.069"
      ]
     },
     "execution_count": 20,
     "metadata": {},
     "output_type": "execute_result"
    }
   ],
   "source": [
    "pcorr_y = pd.DataFrame({\"features\":[\"Survived\",\"Age\",\"Pclass\",\"SibSp\",\"Parch\",\"Fare\"],\"pcorr_y\":pcorr_matrix[\"Survived\"]},index=None)\n",
    "pcorr_y = pcorr_y.reset_index(drop=True)\n",
    "# pcorr_y.to_csv(\"Partial correlation Survived.csv\")\n",
    "pcorr_y"
   ]
  },
  {
   "attachments": {},
   "cell_type": "markdown",
   "metadata": {
    "papermill": {
     "duration": 0.042618,
     "end_time": "2021-03-31T10:07:05.283779",
     "exception": false,
     "start_time": "2021-03-31T10:07:05.241161",
     "status": "completed"
    },
    "tags": []
   },
   "source": [
    "**continuous → discrete**"
   ]
  },
  {
   "cell_type": "code",
   "execution_count": 21,
   "metadata": {
    "execution": {
     "iopub.execute_input": "2021-03-31T10:07:05.393438Z",
     "iopub.status.busy": "2021-03-31T10:07:05.388471Z",
     "iopub.status.idle": "2021-03-31T10:07:05.396992Z",
     "shell.execute_reply": "2021-03-31T10:07:05.397528Z"
    },
    "papermill": {
     "duration": 0.068758,
     "end_time": "2021-03-31T10:07:05.397718",
     "exception": false,
     "start_time": "2021-03-31T10:07:05.328960",
     "status": "completed"
    },
    "tags": []
   },
   "outputs": [],
   "source": [
    "data1[\"Age\"] = pd.cut(data1[\"Age\"],3)\n",
    "data1[\"Fare\"] =pd.cut(data1[\"Fare\"],3)"
   ]
  },
  {
   "cell_type": "code",
   "execution_count": 22,
   "metadata": {
    "execution": {
     "iopub.execute_input": "2021-03-31T10:07:05.522958Z",
     "iopub.status.busy": "2021-03-31T10:07:05.521825Z",
     "iopub.status.idle": "2021-03-31T10:07:05.526562Z",
     "shell.execute_reply": "2021-03-31T10:07:05.527018Z"
    },
    "papermill": {
     "duration": 0.071211,
     "end_time": "2021-03-31T10:07:05.527231",
     "exception": false,
     "start_time": "2021-03-31T10:07:05.456020",
     "status": "completed"
    },
    "tags": []
   },
   "outputs": [
    {
     "data": {
      "text/html": [
       "<div>\n",
       "<style scoped>\n",
       "    .dataframe tbody tr th:only-of-type {\n",
       "        vertical-align: middle;\n",
       "    }\n",
       "\n",
       "    .dataframe tbody tr th {\n",
       "        vertical-align: top;\n",
       "    }\n",
       "\n",
       "    .dataframe thead th {\n",
       "        text-align: right;\n",
       "    }\n",
       "</style>\n",
       "<table border=\"1\" class=\"dataframe\">\n",
       "  <thead>\n",
       "    <tr style=\"text-align: right;\">\n",
       "      <th></th>\n",
       "      <th>Survived</th>\n",
       "      <th>Age</th>\n",
       "      <th>Pclass</th>\n",
       "      <th>Sex</th>\n",
       "      <th>SibSp</th>\n",
       "      <th>Parch</th>\n",
       "      <th>Fare</th>\n",
       "      <th>Embarked</th>\n",
       "    </tr>\n",
       "  </thead>\n",
       "  <tbody>\n",
       "    <tr>\n",
       "      <th>0</th>\n",
       "      <td>0</td>\n",
       "      <td>(0.34, 26.947]</td>\n",
       "      <td>3</td>\n",
       "      <td>0</td>\n",
       "      <td>1</td>\n",
       "      <td>0</td>\n",
       "      <td>(-0.512, 170.776]</td>\n",
       "      <td>0</td>\n",
       "    </tr>\n",
       "    <tr>\n",
       "      <th>1</th>\n",
       "      <td>1</td>\n",
       "      <td>(26.947, 53.473]</td>\n",
       "      <td>1</td>\n",
       "      <td>1</td>\n",
       "      <td>1</td>\n",
       "      <td>0</td>\n",
       "      <td>(-0.512, 170.776]</td>\n",
       "      <td>1</td>\n",
       "    </tr>\n",
       "    <tr>\n",
       "      <th>2</th>\n",
       "      <td>1</td>\n",
       "      <td>(0.34, 26.947]</td>\n",
       "      <td>3</td>\n",
       "      <td>1</td>\n",
       "      <td>0</td>\n",
       "      <td>0</td>\n",
       "      <td>(-0.512, 170.776]</td>\n",
       "      <td>0</td>\n",
       "    </tr>\n",
       "    <tr>\n",
       "      <th>3</th>\n",
       "      <td>1</td>\n",
       "      <td>(26.947, 53.473]</td>\n",
       "      <td>1</td>\n",
       "      <td>1</td>\n",
       "      <td>1</td>\n",
       "      <td>0</td>\n",
       "      <td>(-0.512, 170.776]</td>\n",
       "      <td>0</td>\n",
       "    </tr>\n",
       "    <tr>\n",
       "      <th>4</th>\n",
       "      <td>0</td>\n",
       "      <td>(26.947, 53.473]</td>\n",
       "      <td>3</td>\n",
       "      <td>0</td>\n",
       "      <td>0</td>\n",
       "      <td>0</td>\n",
       "      <td>(-0.512, 170.776]</td>\n",
       "      <td>0</td>\n",
       "    </tr>\n",
       "  </tbody>\n",
       "</table>\n",
       "</div>"
      ],
      "text/plain": [
       "   Survived               Age  Pclass Sex  SibSp  Parch               Fare  \\\n",
       "0         0    (0.34, 26.947]       3   0      1      0  (-0.512, 170.776]   \n",
       "1         1  (26.947, 53.473]       1   1      1      0  (-0.512, 170.776]   \n",
       "2         1    (0.34, 26.947]       3   1      0      0  (-0.512, 170.776]   \n",
       "3         1  (26.947, 53.473]       1   1      1      0  (-0.512, 170.776]   \n",
       "4         0  (26.947, 53.473]       3   0      0      0  (-0.512, 170.776]   \n",
       "\n",
       "  Embarked  \n",
       "0        0  \n",
       "1        1  \n",
       "2        0  \n",
       "3        0  \n",
       "4        0  "
      ]
     },
     "execution_count": 22,
     "metadata": {},
     "output_type": "execute_result"
    }
   ],
   "source": [
    "data1.head()"
   ]
  },
  {
   "attachments": {},
   "cell_type": "markdown",
   "metadata": {
    "papermill": {
     "duration": 0.047576,
     "end_time": "2021-03-31T10:07:05.621116",
     "exception": false,
     "start_time": "2021-03-31T10:07:05.573540",
     "status": "completed"
    },
    "tags": []
   },
   "source": [
    "**Bayesian network construction**"
   ]
  },
  {
   "cell_type": "code",
   "execution_count": 23,
   "metadata": {
    "execution": {
     "iopub.execute_input": "2021-03-31T10:07:05.724669Z",
     "iopub.status.busy": "2021-03-31T10:07:05.723248Z",
     "iopub.status.idle": "2021-03-31T10:07:22.227619Z",
     "shell.execute_reply": "2021-03-31T10:07:22.226910Z"
    },
    "papermill": {
     "duration": 16.556376,
     "end_time": "2021-03-31T10:07:22.227771",
     "exception": false,
     "start_time": "2021-03-31T10:07:05.671395",
     "status": "completed"
    },
    "tags": []
   },
   "outputs": [],
   "source": [
    "# !pip install graphviz\n",
    "# !pip install pgmpy==0.1.11"
   ]
  },
  {
   "cell_type": "code",
   "execution_count": 24,
   "metadata": {},
   "outputs": [
    {
     "data": {
      "text/html": [
       "<div>\n",
       "<style scoped>\n",
       "    .dataframe tbody tr th:only-of-type {\n",
       "        vertical-align: middle;\n",
       "    }\n",
       "\n",
       "    .dataframe tbody tr th {\n",
       "        vertical-align: top;\n",
       "    }\n",
       "\n",
       "    .dataframe thead th {\n",
       "        text-align: right;\n",
       "    }\n",
       "</style>\n",
       "<table border=\"1\" class=\"dataframe\">\n",
       "  <thead>\n",
       "    <tr style=\"text-align: right;\">\n",
       "      <th></th>\n",
       "      <th>Survived</th>\n",
       "      <th>Age</th>\n",
       "      <th>Pclass</th>\n",
       "      <th>Sex</th>\n",
       "      <th>SibSp</th>\n",
       "      <th>Parch</th>\n",
       "      <th>Fare</th>\n",
       "      <th>Embarked</th>\n",
       "    </tr>\n",
       "  </thead>\n",
       "  <tbody>\n",
       "    <tr>\n",
       "      <th>0</th>\n",
       "      <td>0</td>\n",
       "      <td>(0.34, 26.947]</td>\n",
       "      <td>3</td>\n",
       "      <td>0</td>\n",
       "      <td>1</td>\n",
       "      <td>0</td>\n",
       "      <td>(-0.512, 170.776]</td>\n",
       "      <td>0</td>\n",
       "    </tr>\n",
       "    <tr>\n",
       "      <th>1</th>\n",
       "      <td>1</td>\n",
       "      <td>(26.947, 53.473]</td>\n",
       "      <td>1</td>\n",
       "      <td>1</td>\n",
       "      <td>1</td>\n",
       "      <td>0</td>\n",
       "      <td>(-0.512, 170.776]</td>\n",
       "      <td>1</td>\n",
       "    </tr>\n",
       "    <tr>\n",
       "      <th>2</th>\n",
       "      <td>1</td>\n",
       "      <td>(0.34, 26.947]</td>\n",
       "      <td>3</td>\n",
       "      <td>1</td>\n",
       "      <td>0</td>\n",
       "      <td>0</td>\n",
       "      <td>(-0.512, 170.776]</td>\n",
       "      <td>0</td>\n",
       "    </tr>\n",
       "    <tr>\n",
       "      <th>3</th>\n",
       "      <td>1</td>\n",
       "      <td>(26.947, 53.473]</td>\n",
       "      <td>1</td>\n",
       "      <td>1</td>\n",
       "      <td>1</td>\n",
       "      <td>0</td>\n",
       "      <td>(-0.512, 170.776]</td>\n",
       "      <td>0</td>\n",
       "    </tr>\n",
       "    <tr>\n",
       "      <th>4</th>\n",
       "      <td>0</td>\n",
       "      <td>(26.947, 53.473]</td>\n",
       "      <td>3</td>\n",
       "      <td>0</td>\n",
       "      <td>0</td>\n",
       "      <td>0</td>\n",
       "      <td>(-0.512, 170.776]</td>\n",
       "      <td>0</td>\n",
       "    </tr>\n",
       "    <tr>\n",
       "      <th>...</th>\n",
       "      <td>...</td>\n",
       "      <td>...</td>\n",
       "      <td>...</td>\n",
       "      <td>...</td>\n",
       "      <td>...</td>\n",
       "      <td>...</td>\n",
       "      <td>...</td>\n",
       "      <td>...</td>\n",
       "    </tr>\n",
       "    <tr>\n",
       "      <th>886</th>\n",
       "      <td>0</td>\n",
       "      <td>(26.947, 53.473]</td>\n",
       "      <td>2</td>\n",
       "      <td>0</td>\n",
       "      <td>0</td>\n",
       "      <td>0</td>\n",
       "      <td>(-0.512, 170.776]</td>\n",
       "      <td>0</td>\n",
       "    </tr>\n",
       "    <tr>\n",
       "      <th>887</th>\n",
       "      <td>1</td>\n",
       "      <td>(0.34, 26.947]</td>\n",
       "      <td>1</td>\n",
       "      <td>1</td>\n",
       "      <td>0</td>\n",
       "      <td>0</td>\n",
       "      <td>(-0.512, 170.776]</td>\n",
       "      <td>0</td>\n",
       "    </tr>\n",
       "    <tr>\n",
       "      <th>888</th>\n",
       "      <td>0</td>\n",
       "      <td>(26.947, 53.473]</td>\n",
       "      <td>3</td>\n",
       "      <td>1</td>\n",
       "      <td>1</td>\n",
       "      <td>2</td>\n",
       "      <td>(-0.512, 170.776]</td>\n",
       "      <td>0</td>\n",
       "    </tr>\n",
       "    <tr>\n",
       "      <th>889</th>\n",
       "      <td>1</td>\n",
       "      <td>(0.34, 26.947]</td>\n",
       "      <td>1</td>\n",
       "      <td>0</td>\n",
       "      <td>0</td>\n",
       "      <td>0</td>\n",
       "      <td>(-0.512, 170.776]</td>\n",
       "      <td>1</td>\n",
       "    </tr>\n",
       "    <tr>\n",
       "      <th>890</th>\n",
       "      <td>0</td>\n",
       "      <td>(26.947, 53.473]</td>\n",
       "      <td>3</td>\n",
       "      <td>0</td>\n",
       "      <td>0</td>\n",
       "      <td>0</td>\n",
       "      <td>(-0.512, 170.776]</td>\n",
       "      <td>2</td>\n",
       "    </tr>\n",
       "  </tbody>\n",
       "</table>\n",
       "<p>891 rows × 8 columns</p>\n",
       "</div>"
      ],
      "text/plain": [
       "     Survived               Age  Pclass Sex  SibSp  Parch               Fare  \\\n",
       "0           0    (0.34, 26.947]       3   0      1      0  (-0.512, 170.776]   \n",
       "1           1  (26.947, 53.473]       1   1      1      0  (-0.512, 170.776]   \n",
       "2           1    (0.34, 26.947]       3   1      0      0  (-0.512, 170.776]   \n",
       "3           1  (26.947, 53.473]       1   1      1      0  (-0.512, 170.776]   \n",
       "4           0  (26.947, 53.473]       3   0      0      0  (-0.512, 170.776]   \n",
       "..        ...               ...     ...  ..    ...    ...                ...   \n",
       "886         0  (26.947, 53.473]       2   0      0      0  (-0.512, 170.776]   \n",
       "887         1    (0.34, 26.947]       1   1      0      0  (-0.512, 170.776]   \n",
       "888         0  (26.947, 53.473]       3   1      1      2  (-0.512, 170.776]   \n",
       "889         1    (0.34, 26.947]       1   0      0      0  (-0.512, 170.776]   \n",
       "890         0  (26.947, 53.473]       3   0      0      0  (-0.512, 170.776]   \n",
       "\n",
       "    Embarked  \n",
       "0          0  \n",
       "1          1  \n",
       "2          0  \n",
       "3          0  \n",
       "4          0  \n",
       "..       ...  \n",
       "886        0  \n",
       "887        0  \n",
       "888        0  \n",
       "889        1  \n",
       "890        2  \n",
       "\n",
       "[891 rows x 8 columns]"
      ]
     },
     "execution_count": 24,
     "metadata": {},
     "output_type": "execute_result"
    }
   ],
   "source": [
    "data1"
   ]
  },
  {
   "cell_type": "code",
   "execution_count": 25,
   "metadata": {},
   "outputs": [],
   "source": [
    "# requires pandas==1.5"
   ]
  },
  {
   "cell_type": "code",
   "execution_count": 26,
   "metadata": {
    "execution": {
     "iopub.execute_input": "2021-03-31T10:07:22.335854Z",
     "iopub.status.busy": "2021-03-31T10:07:22.334851Z",
     "iopub.status.idle": "2021-03-31T10:07:30.624811Z",
     "shell.execute_reply": "2021-03-31T10:07:30.626073Z"
    },
    "papermill": {
     "duration": 8.348143,
     "end_time": "2021-03-31T10:07:30.626495",
     "exception": false,
     "start_time": "2021-03-31T10:07:22.278352",
     "status": "completed"
    },
    "tags": []
   },
   "outputs": [
    {
     "name": "stdout",
     "output_type": "stream",
     "text": [
      "Undirected edges:  [('Survived', 'Pclass'), ('Survived', 'Sex'), ('Age', 'Pclass'), ('Pclass', 'Embarked'), ('Sex', 'Parch'), ('SibSp', 'Parch')]\n",
      "PDAG edges:        [('Age', 'Pclass'), ('SibSp', 'Parch'), ('Parch', 'Sex'), ('Parch', 'SibSp'), ('Embarked', 'Pclass')]\n",
      "DAG edges:         [('Age', 'Pclass'), ('Parch', 'Sex'), ('Parch', 'SibSp'), ('Embarked', 'Pclass')]\n"
     ]
    }
   ],
   "source": [
    "import pgmpy\n",
    "from pgmpy.estimators import ConstraintBasedEstimator\n",
    "\n",
    "\n",
    "est = ConstraintBasedEstimator(data1)\n",
    "\n",
    "# skel,seperating_sets = est.estimate_skeleton(significance_level = 0.01)\n",
    "skel,seperating_sets = est.estimate_skeleton()\n",
    "print(\"Undirected edges: \",skel.edges())\n",
    "\n",
    "pdag = est.skeleton_to_pdag(skel,seperating_sets)\n",
    "print(\"PDAG edges:       \", pdag.edges())\n",
    "\n",
    "model = est.pdag_to_dag(pdag)\n",
    "print(\"DAG edges:        \", model.edges())"
   ]
  },
  {
   "attachments": {},
   "cell_type": "markdown",
   "metadata": {
    "papermill": {
     "duration": 0.052518,
     "end_time": "2021-03-31T10:07:30.734531",
     "exception": false,
     "start_time": "2021-03-31T10:07:30.682013",
     "status": "completed"
    },
    "tags": []
   },
   "source": [
    "**Visualization**"
   ]
  },
  {
   "cell_type": "code",
   "execution_count": 27,
   "metadata": {
    "execution": {
     "iopub.execute_input": "2021-03-31T10:07:30.852525Z",
     "iopub.status.busy": "2021-03-31T10:07:30.845941Z",
     "iopub.status.idle": "2021-03-31T10:07:37.954989Z",
     "shell.execute_reply": "2021-03-31T10:07:37.955505Z"
    },
    "papermill": {
     "duration": 7.170081,
     "end_time": "2021-03-31T10:07:37.955694",
     "exception": false,
     "start_time": "2021-03-31T10:07:30.785613",
     "status": "completed"
    },
    "tags": []
   },
   "outputs": [],
   "source": [
    "# !pip install Pillow"
   ]
  },
  {
   "cell_type": "code",
   "execution_count": 28,
   "metadata": {
    "execution": {
     "iopub.execute_input": "2021-03-31T10:07:38.065165Z",
     "iopub.status.busy": "2021-03-31T10:07:38.064014Z",
     "iopub.status.idle": "2021-03-31T10:07:38.068031Z",
     "shell.execute_reply": "2021-03-31T10:07:38.068612Z"
    },
    "papermill": {
     "duration": 0.063048,
     "end_time": "2021-03-31T10:07:38.068817",
     "exception": false,
     "start_time": "2021-03-31T10:07:38.005769",
     "status": "completed"
    },
    "tags": []
   },
   "outputs": [],
   "source": [
    "import networkx as nx\n",
    "from IPython.display import SVG, display\n",
    "from PIL import Image"
   ]
  },
  {
   "attachments": {},
   "cell_type": "markdown",
   "metadata": {
    "papermill": {
     "duration": 0.05146,
     "end_time": "2021-03-31T10:07:38.175462",
     "exception": false,
     "start_time": "2021-03-31T10:07:38.124002",
     "status": "completed"
    },
    "tags": []
   },
   "source": [
    "1. Undirected graph"
   ]
  },
  {
   "cell_type": "code",
   "execution_count": 29,
   "metadata": {},
   "outputs": [],
   "source": [
    "# !pip install pygraphviz"
   ]
  },
  {
   "cell_type": "code",
   "execution_count": 30,
   "metadata": {
    "execution": {
     "iopub.execute_input": "2021-03-31T10:07:38.286076Z",
     "iopub.status.busy": "2021-03-31T10:07:38.285302Z",
     "iopub.status.idle": "2021-03-31T10:07:38.307300Z",
     "shell.execute_reply": "2021-03-31T10:07:38.306556Z"
    },
    "papermill": {
     "duration": 0.081924,
     "end_time": "2021-03-31T10:07:38.307459",
     "exception": false,
     "start_time": "2021-03-31T10:07:38.225535",
     "status": "completed"
    },
    "tags": []
   },
   "outputs": [
    {
     "data": {
      "image/svg+xml": [
       "<svg xmlns=\"http://www.w3.org/2000/svg\" xmlns:xlink=\"http://www.w3.org/1999/xlink\" width=\"362pt\" height=\"276pt\" viewBox=\"0.00 0.00 362.00 276.00\">\n",
       "<g id=\"graph0\" class=\"graph\" transform=\"scale(1 1) rotate(0) translate(4 272)\">\n",
       "<polygon fill=\"white\" stroke=\"transparent\" points=\"-4,4 -4,-272 358,-272 358,4 -4,4\"/>\n",
       "<!-- Survived -->\n",
       "<g id=\"node1\" class=\"node\">\n",
       "<title>Survived</title>\n",
       "<ellipse fill=\"none\" stroke=\"black\" cx=\"120.01\" cy=\"-152.77\" rx=\"42.49\" ry=\"18\"/>\n",
       "<text text-anchor=\"middle\" x=\"120.01\" y=\"-149.07\" font-family=\"Times,serif\" font-size=\"14.00\">Survived</text>\n",
       "</g>\n",
       "<!-- Pclass -->\n",
       "<g id=\"node2\" class=\"node\">\n",
       "<title>Pclass</title>\n",
       "<ellipse fill=\"none\" stroke=\"black\" cx=\"215.44\" cy=\"-199.26\" rx=\"32.49\" ry=\"18\"/>\n",
       "<text text-anchor=\"middle\" x=\"215.44\" y=\"-195.56\" font-family=\"Times,serif\" font-size=\"14.00\">Pclass</text>\n",
       "</g>\n",
       "<!-- Survived&#45;&#45;Pclass -->\n",
       "<g id=\"edge1\" class=\"edge\">\n",
       "<title>Survived--Pclass</title>\n",
       "<path fill=\"none\" stroke=\"black\" d=\"M147.87,-166.34C161.51,-172.99 177.79,-180.92 190.95,-187.33\"/>\n",
       "</g>\n",
       "<!-- Sex -->\n",
       "<g id=\"node3\" class=\"node\">\n",
       "<title>Sex</title>\n",
       "<ellipse fill=\"none\" stroke=\"black\" cx=\"143.34\" cy=\"-108.05\" rx=\"27\" ry=\"18\"/>\n",
       "<text text-anchor=\"middle\" x=\"143.34\" y=\"-104.35\" font-family=\"Times,serif\" font-size=\"14.00\">Sex</text>\n",
       "</g>\n",
       "<!-- Survived&#45;&#45;Sex -->\n",
       "<g id=\"edge2\" class=\"edge\">\n",
       "<title>Survived--Sex</title>\n",
       "<path fill=\"none\" stroke=\"black\" d=\"M129.23,-135.09C130.91,-131.87 132.66,-128.51 134.34,-125.3\"/>\n",
       "</g>\n",
       "<!-- Embarked -->\n",
       "<g id=\"node5\" class=\"node\">\n",
       "<title>Embarked</title>\n",
       "<ellipse fill=\"none\" stroke=\"black\" cx=\"306.56\" cy=\"-137.29\" rx=\"47.39\" ry=\"18\"/>\n",
       "<text text-anchor=\"middle\" x=\"306.56\" y=\"-133.59\" font-family=\"Times,serif\" font-size=\"14.00\">Embarked</text>\n",
       "</g>\n",
       "<!-- Pclass&#45;&#45;Embarked -->\n",
       "<g id=\"edge4\" class=\"edge\">\n",
       "<title>Pclass--Embarked</title>\n",
       "<path fill=\"none\" stroke=\"black\" d=\"M236.11,-185.2C250.19,-175.63 268.83,-162.95 283.4,-153.04\"/>\n",
       "</g>\n",
       "<!-- Parch -->\n",
       "<g id=\"node6\" class=\"node\">\n",
       "<title>Parch</title>\n",
       "<ellipse fill=\"none\" stroke=\"black\" cx=\"116.14\" cy=\"-18.34\" rx=\"30.59\" ry=\"18\"/>\n",
       "<text text-anchor=\"middle\" x=\"116.14\" y=\"-14.64\" font-family=\"Times,serif\" font-size=\"14.00\">Parch</text>\n",
       "</g>\n",
       "<!-- Sex&#45;&#45;Parch -->\n",
       "<g id=\"edge5\" class=\"edge\">\n",
       "<title>Sex--Parch</title>\n",
       "<path fill=\"none\" stroke=\"black\" d=\"M137.97,-90.33C133.23,-74.7 126.36,-52.04 121.6,-36.33\"/>\n",
       "</g>\n",
       "<!-- Age -->\n",
       "<g id=\"node4\" class=\"node\">\n",
       "<title>Age</title>\n",
       "<ellipse fill=\"none\" stroke=\"black\" cx=\"208.67\" cy=\"-249.51\" rx=\"27\" ry=\"18\"/>\n",
       "<text text-anchor=\"middle\" x=\"208.67\" y=\"-245.81\" font-family=\"Times,serif\" font-size=\"14.00\">Age</text>\n",
       "</g>\n",
       "<!-- Age&#45;&#45;Pclass -->\n",
       "<g id=\"edge3\" class=\"edge\">\n",
       "<title>Age--Pclass</title>\n",
       "<path fill=\"none\" stroke=\"black\" d=\"M211.12,-231.37C211.72,-226.87 212.37,-222.05 212.98,-217.54\"/>\n",
       "</g>\n",
       "<!-- SibSp -->\n",
       "<g id=\"node7\" class=\"node\">\n",
       "<title>SibSp</title>\n",
       "<ellipse fill=\"none\" stroke=\"black\" cx=\"31.61\" cy=\"-76.52\" rx=\"31.7\" ry=\"18\"/>\n",
       "<text text-anchor=\"middle\" x=\"31.61\" y=\"-72.82\" font-family=\"Times,serif\" font-size=\"14.00\">SibSp</text>\n",
       "</g>\n",
       "<!-- SibSp&#45;&#45;Parch -->\n",
       "<g id=\"edge6\" class=\"edge\">\n",
       "<title>SibSp--Parch</title>\n",
       "<path fill=\"none\" stroke=\"black\" d=\"M52.07,-62.44C65.46,-53.22 82.87,-41.24 96.16,-32.09\"/>\n",
       "</g>\n",
       "</g>\n",
       "</svg>"
      ],
      "text/plain": [
       "<IPython.core.display.SVG object>"
      ]
     },
     "metadata": {},
     "output_type": "display_data"
    }
   ],
   "source": [
    "G1 = nx.Graph()\n",
    "G1.add_nodes_from([\"Survived\",\"Age\",\"Pclass\",\"Sex\",\"SibSp\",\"Parch\",\"Fare\",\"Embarked\"])\n",
    "G1.add_edges_from(skel.edges())\n",
    "G1.remove_node(\"Fare\")\n",
    "\n",
    "svg1 = SVG(nx.nx_agraph.to_agraph(G1).draw(prog='fdp', format='svg')) #To display needs pygraphviz!\n",
    "display(svg1)\n",
    "# G1img = Image.open(\"/kaggle/input/titanicbayesian-network/Undirected graph.png\")\n",
    "# G1img"
   ]
  },
  {
   "attachments": {},
   "cell_type": "markdown",
   "metadata": {
    "papermill": {
     "duration": 0.052717,
     "end_time": "2021-03-31T10:07:38.413616",
     "exception": false,
     "start_time": "2021-03-31T10:07:38.360899",
     "status": "completed"
    },
    "tags": []
   },
   "source": [
    "2. Partial directed graph"
   ]
  },
  {
   "cell_type": "code",
   "execution_count": 31,
   "metadata": {
    "execution": {
     "iopub.execute_input": "2021-03-31T10:07:38.524677Z",
     "iopub.status.busy": "2021-03-31T10:07:38.523767Z",
     "iopub.status.idle": "2021-03-31T10:07:38.543661Z",
     "shell.execute_reply": "2021-03-31T10:07:38.543009Z"
    },
    "papermill": {
     "duration": 0.079574,
     "end_time": "2021-03-31T10:07:38.543815",
     "exception": false,
     "start_time": "2021-03-31T10:07:38.464241",
     "status": "completed"
    },
    "tags": []
   },
   "outputs": [
    {
     "data": {
      "image/svg+xml": [
       "<svg xmlns=\"http://www.w3.org/2000/svg\" xmlns:xlink=\"http://www.w3.org/1999/xlink\" width=\"254pt\" height=\"203pt\" viewBox=\"0.00 0.00 254.00 203.00\">\n",
       "<g id=\"graph0\" class=\"graph\" transform=\"scale(1 1) rotate(0) translate(4 199)\">\n",
       "<polygon fill=\"white\" stroke=\"transparent\" points=\"-4,4 -4,-199 250,-199 250,4 -4,4\"/>\n",
       "<!-- Survived -->\n",
       "<g id=\"node1\" class=\"node\">\n",
       "<title>Survived</title>\n",
       "<ellipse fill=\"none\" stroke=\"black\" cx=\"185.24\" cy=\"-17.64\" rx=\"42.49\" ry=\"18\"/>\n",
       "<text text-anchor=\"middle\" x=\"185.24\" y=\"-13.94\" font-family=\"Times,serif\" font-size=\"14.00\">Survived</text>\n",
       "</g>\n",
       "<!-- Age -->\n",
       "<g id=\"node2\" class=\"node\">\n",
       "<title>Age</title>\n",
       "<ellipse fill=\"none\" stroke=\"black\" cx=\"131.01\" cy=\"-176.89\" rx=\"27\" ry=\"18\"/>\n",
       "<text text-anchor=\"middle\" x=\"131.01\" y=\"-173.19\" font-family=\"Times,serif\" font-size=\"14.00\">Age</text>\n",
       "</g>\n",
       "<!-- Pclass -->\n",
       "<g id=\"node3\" class=\"node\">\n",
       "<title>Pclass</title>\n",
       "<ellipse fill=\"none\" stroke=\"black\" cx=\"199.94\" cy=\"-130.04\" rx=\"32.49\" ry=\"18\"/>\n",
       "<text text-anchor=\"middle\" x=\"199.94\" y=\"-126.34\" font-family=\"Times,serif\" font-size=\"14.00\">Pclass</text>\n",
       "</g>\n",
       "<!-- Age&#45;&gt;Pclass -->\n",
       "<g id=\"edge1\" class=\"edge\">\n",
       "<title>Age-&gt;Pclass</title>\n",
       "<path fill=\"none\" stroke=\"black\" d=\"M150.21,-163.84C156.6,-159.5 163.86,-154.56 170.82,-149.83\"/>\n",
       "<polygon fill=\"black\" stroke=\"black\" points=\"173.09,-152.52 179.39,-144 169.16,-146.73 173.09,-152.52\"/>\n",
       "</g>\n",
       "<!-- SibSp -->\n",
       "<g id=\"node4\" class=\"node\">\n",
       "<title>SibSp</title>\n",
       "<ellipse fill=\"none\" stroke=\"black\" cx=\"31.46\" cy=\"-147.14\" rx=\"31.7\" ry=\"18\"/>\n",
       "<text text-anchor=\"middle\" x=\"31.46\" y=\"-143.44\" font-family=\"Times,serif\" font-size=\"14.00\">SibSp</text>\n",
       "</g>\n",
       "<!-- Parch -->\n",
       "<g id=\"node5\" class=\"node\">\n",
       "<title>Parch</title>\n",
       "<ellipse fill=\"none\" stroke=\"black\" cx=\"106.3\" cy=\"-101.13\" rx=\"30.59\" ry=\"18\"/>\n",
       "<text text-anchor=\"middle\" x=\"106.3\" y=\"-97.43\" font-family=\"Times,serif\" font-size=\"14.00\">Parch</text>\n",
       "</g>\n",
       "<!-- SibSp&#45;&gt;Parch -->\n",
       "<g id=\"edge2\" class=\"edge\">\n",
       "<title>SibSp-&gt;Parch</title>\n",
       "<path fill=\"none\" stroke=\"black\" d=\"M58.88,-137.74C66.75,-133.46 75.24,-128.3 82.84,-123.19\"/>\n",
       "<polygon fill=\"black\" stroke=\"black\" points=\"85.1,-125.88 91.27,-117.27 81.08,-120.15 85.1,-125.88\"/>\n",
       "</g>\n",
       "<!-- Parch&#45;&gt;SibSp -->\n",
       "<g id=\"edge4\" class=\"edge\">\n",
       "<title>Parch-&gt;SibSp</title>\n",
       "<path fill=\"none\" stroke=\"black\" d=\"M79.73,-110.07C71.6,-114.45 62.74,-119.83 54.83,-125.14\"/>\n",
       "<polygon fill=\"black\" stroke=\"black\" points=\"52.58,-122.45 46.41,-131.06 56.61,-128.17 52.58,-122.45\"/>\n",
       "</g>\n",
       "<!-- Sex -->\n",
       "<g id=\"node6\" class=\"node\">\n",
       "<title>Sex</title>\n",
       "<ellipse fill=\"none\" stroke=\"black\" cx=\"97.27\" cy=\"-31.33\" rx=\"27\" ry=\"18\"/>\n",
       "<text text-anchor=\"middle\" x=\"97.27\" y=\"-27.63\" font-family=\"Times,serif\" font-size=\"14.00\">Sex</text>\n",
       "</g>\n",
       "<!-- Parch&#45;&gt;Sex -->\n",
       "<g id=\"edge3\" class=\"edge\">\n",
       "<title>Parch-&gt;Sex</title>\n",
       "<path fill=\"none\" stroke=\"black\" d=\"M103.98,-83.15C103.05,-75.96 101.95,-67.51 100.92,-59.54\"/>\n",
       "<polygon fill=\"black\" stroke=\"black\" points=\"104.38,-58.96 99.62,-49.49 97.43,-59.86 104.38,-58.96\"/>\n",
       "</g>\n",
       "<!-- Embarked -->\n",
       "<g id=\"node7\" class=\"node\">\n",
       "<title>Embarked</title>\n",
       "<ellipse fill=\"none\" stroke=\"black\" cx=\"198.99\" cy=\"-83\" rx=\"47.39\" ry=\"18\"/>\n",
       "<text text-anchor=\"middle\" x=\"198.99\" y=\"-79.3\" font-family=\"Times,serif\" font-size=\"14.00\">Embarked</text>\n",
       "</g>\n",
       "<!-- Embarked&#45;&gt;Pclass -->\n",
       "<g id=\"edge5\" class=\"edge\">\n",
       "<title>Embarked-&gt;Pclass</title>\n",
       "<path fill=\"none\" stroke=\"black\" d=\"M199.35,-101.05C199.36,-101.27 199.36,-101.49 199.37,-101.72\"/>\n",
       "<polygon fill=\"black\" stroke=\"black\" points=\"195.87,-101.87 199.57,-111.8 202.87,-101.73 195.87,-101.87\"/>\n",
       "</g>\n",
       "</g>\n",
       "</svg>"
      ],
      "text/plain": [
       "<IPython.core.display.SVG object>"
      ]
     },
     "metadata": {},
     "output_type": "display_data"
    }
   ],
   "source": [
    "G2 = nx.DiGraph()\n",
    "G2.add_nodes_from([\"Survived\",\"Age\",\"Pclass\",\"Sex\",\"SibSp\",\"Parch\",\"Fare\",\"Embarked\"])\n",
    "G2.add_edges_from(pdag.edges())\n",
    "G2.remove_node(\"Fare\")\n",
    "\n",
    "svg2 = SVG(nx.nx_agraph.to_agraph(G2).draw(prog='fdp', format='svg'))\n",
    "display(svg2)\n",
    "# G2img = Image.open(\"/kaggle/input/titanicbayesian-network/Partial directed graph.png\")\n",
    "# G2img"
   ]
  },
  {
   "attachments": {},
   "cell_type": "markdown",
   "metadata": {
    "papermill": {
     "duration": 0.055514,
     "end_time": "2021-03-31T10:07:38.652454",
     "exception": false,
     "start_time": "2021-03-31T10:07:38.596940",
     "status": "completed"
    },
    "tags": []
   },
   "source": [
    "3. Directed graph"
   ]
  },
  {
   "cell_type": "code",
   "execution_count": 32,
   "metadata": {
    "execution": {
     "iopub.execute_input": "2021-03-31T10:07:38.765631Z",
     "iopub.status.busy": "2021-03-31T10:07:38.764821Z",
     "iopub.status.idle": "2021-03-31T10:07:38.783396Z",
     "shell.execute_reply": "2021-03-31T10:07:38.782820Z"
    },
    "papermill": {
     "duration": 0.076726,
     "end_time": "2021-03-31T10:07:38.783558",
     "exception": false,
     "start_time": "2021-03-31T10:07:38.706832",
     "status": "completed"
    },
    "tags": []
   },
   "outputs": [
    {
     "data": {
      "image/svg+xml": [
       "<svg xmlns=\"http://www.w3.org/2000/svg\" xmlns:xlink=\"http://www.w3.org/1999/xlink\" width=\"261pt\" height=\"261pt\" viewBox=\"0.00 0.00 261.00 261.00\">\n",
       "<g id=\"graph0\" class=\"graph\" transform=\"scale(1 1) rotate(0) translate(4 257)\">\n",
       "<polygon fill=\"white\" stroke=\"transparent\" points=\"-4,4 -4,-257 257,-257 257,4 -4,4\"/>\n",
       "<!-- Survived -->\n",
       "<g id=\"node1\" class=\"node\">\n",
       "<title>Survived</title>\n",
       "<ellipse fill=\"none\" stroke=\"black\" cx=\"211.24\" cy=\"-17.64\" rx=\"42.49\" ry=\"18\"/>\n",
       "<text text-anchor=\"middle\" x=\"211.24\" y=\"-13.94\" font-family=\"Times,serif\" font-size=\"14.00\">Survived</text>\n",
       "</g>\n",
       "<!-- Age -->\n",
       "<g id=\"node2\" class=\"node\">\n",
       "<title>Age</title>\n",
       "<ellipse fill=\"none\" stroke=\"black\" cx=\"27.01\" cy=\"-137.89\" rx=\"27\" ry=\"18\"/>\n",
       "<text text-anchor=\"middle\" x=\"27.01\" y=\"-134.19\" font-family=\"Times,serif\" font-size=\"14.00\">Age</text>\n",
       "</g>\n",
       "<!-- Pclass -->\n",
       "<g id=\"node3\" class=\"node\">\n",
       "<title>Pclass</title>\n",
       "<ellipse fill=\"none\" stroke=\"black\" cx=\"95.94\" cy=\"-91.04\" rx=\"32.49\" ry=\"18\"/>\n",
       "<text text-anchor=\"middle\" x=\"95.94\" y=\"-87.34\" font-family=\"Times,serif\" font-size=\"14.00\">Pclass</text>\n",
       "</g>\n",
       "<!-- Age&#45;&gt;Pclass -->\n",
       "<g id=\"edge1\" class=\"edge\">\n",
       "<title>Age-&gt;Pclass</title>\n",
       "<path fill=\"none\" stroke=\"black\" d=\"M46.21,-124.84C52.6,-120.5 59.86,-115.56 66.82,-110.83\"/>\n",
       "<polygon fill=\"black\" stroke=\"black\" points=\"69.09,-113.52 75.39,-105 65.16,-107.73 69.09,-113.52\"/>\n",
       "</g>\n",
       "<!-- Parch -->\n",
       "<g id=\"node4\" class=\"node\">\n",
       "<title>Parch</title>\n",
       "<ellipse fill=\"none\" stroke=\"black\" cx=\"150.82\" cy=\"-197.57\" rx=\"30.59\" ry=\"18\"/>\n",
       "<text text-anchor=\"middle\" x=\"150.82\" y=\"-193.87\" font-family=\"Times,serif\" font-size=\"14.00\">Parch</text>\n",
       "</g>\n",
       "<!-- Sex -->\n",
       "<g id=\"node5\" class=\"node\">\n",
       "<title>Sex</title>\n",
       "<ellipse fill=\"none\" stroke=\"black\" cx=\"220.66\" cy=\"-235.21\" rx=\"27\" ry=\"18\"/>\n",
       "<text text-anchor=\"middle\" x=\"220.66\" y=\"-231.51\" font-family=\"Times,serif\" font-size=\"14.00\">Sex</text>\n",
       "</g>\n",
       "<!-- Parch&#45;&gt;Sex -->\n",
       "<g id=\"edge2\" class=\"edge\">\n",
       "<title>Parch-&gt;Sex</title>\n",
       "<path fill=\"none\" stroke=\"black\" d=\"M173.69,-209.89C178.99,-212.75 184.71,-215.84 190.28,-218.84\"/>\n",
       "<polygon fill=\"black\" stroke=\"black\" points=\"188.94,-222.09 199.4,-223.75 192.26,-215.93 188.94,-222.09\"/>\n",
       "</g>\n",
       "<!-- SibSp -->\n",
       "<g id=\"node6\" class=\"node\">\n",
       "<title>SibSp</title>\n",
       "<ellipse fill=\"none\" stroke=\"black\" cx=\"148.54\" cy=\"-147.65\" rx=\"31.7\" ry=\"18\"/>\n",
       "<text text-anchor=\"middle\" x=\"148.54\" y=\"-143.95\" font-family=\"Times,serif\" font-size=\"14.00\">SibSp</text>\n",
       "</g>\n",
       "<!-- Parch&#45;&gt;SibSp -->\n",
       "<g id=\"edge3\" class=\"edge\">\n",
       "<title>Parch-&gt;SibSp</title>\n",
       "<path fill=\"none\" stroke=\"black\" d=\"M150,-179.55C149.95,-178.43 149.89,-177.29 149.84,-176.15\"/>\n",
       "<polygon fill=\"black\" stroke=\"black\" points=\"153.32,-175.64 149.37,-165.81 146.33,-175.96 153.32,-175.64\"/>\n",
       "</g>\n",
       "<!-- Embarked -->\n",
       "<g id=\"node7\" class=\"node\">\n",
       "<title>Embarked</title>\n",
       "<ellipse fill=\"none\" stroke=\"black\" cx=\"94.99\" cy=\"-44\" rx=\"47.39\" ry=\"18\"/>\n",
       "<text text-anchor=\"middle\" x=\"94.99\" y=\"-40.3\" font-family=\"Times,serif\" font-size=\"14.00\">Embarked</text>\n",
       "</g>\n",
       "<!-- Embarked&#45;&gt;Pclass -->\n",
       "<g id=\"edge4\" class=\"edge\">\n",
       "<title>Embarked-&gt;Pclass</title>\n",
       "<path fill=\"none\" stroke=\"black\" d=\"M95.35,-62.05C95.36,-62.27 95.36,-62.49 95.37,-62.72\"/>\n",
       "<polygon fill=\"black\" stroke=\"black\" points=\"91.87,-62.87 95.57,-72.8 98.87,-62.73 91.87,-62.87\"/>\n",
       "</g>\n",
       "</g>\n",
       "</svg>"
      ],
      "text/plain": [
       "<IPython.core.display.SVG object>"
      ]
     },
     "metadata": {},
     "output_type": "display_data"
    }
   ],
   "source": [
    "G3 = nx.DiGraph()\n",
    "G3.add_nodes_from([\"Survived\",\"Age\",\"Pclass\",\"Sex\",\"SibSp\",\"Parch\",\"Fare\",\"Embarked\"])\n",
    "G3.add_edges_from(model.edges())\n",
    "G3.remove_node(\"Fare\")\n",
    "\n",
    "svg3 = SVG(nx.nx_agraph.to_agraph(G3).draw(prog='fdp', format='svg'))\n",
    "display(svg3)\n",
    "# G3img = Image.open(\"/kaggle/input/titanicbayesian-network/Directed graph.png\")\n",
    "# G3img"
   ]
  },
  {
   "attachments": {},
   "cell_type": "markdown",
   "metadata": {
    "papermill": {
     "duration": 0.05337,
     "end_time": "2021-03-31T10:07:38.890618",
     "exception": false,
     "start_time": "2021-03-31T10:07:38.837248",
     "status": "completed"
    },
    "tags": []
   },
   "source": [
    "4. Final graph"
   ]
  },
  {
   "cell_type": "code",
   "execution_count": 33,
   "metadata": {
    "execution": {
     "iopub.execute_input": "2021-03-31T10:07:39.006588Z",
     "iopub.status.busy": "2021-03-31T10:07:39.005849Z",
     "iopub.status.idle": "2021-03-31T10:07:39.026789Z",
     "shell.execute_reply": "2021-03-31T10:07:39.027717Z"
    },
    "papermill": {
     "duration": 0.08474,
     "end_time": "2021-03-31T10:07:39.027941",
     "exception": false,
     "start_time": "2021-03-31T10:07:38.943201",
     "status": "completed"
    },
    "tags": []
   },
   "outputs": [
    {
     "data": {
      "image/svg+xml": [
       "<svg xmlns=\"http://www.w3.org/2000/svg\" xmlns:xlink=\"http://www.w3.org/1999/xlink\" width=\"243pt\" height=\"259pt\" viewBox=\"0.00 0.00 243.00 259.00\">\n",
       "<g id=\"graph0\" class=\"graph\" transform=\"scale(1 1) rotate(0) translate(4 255)\">\n",
       "<polygon fill=\"white\" stroke=\"transparent\" points=\"-4,4 -4,-255 239,-255 239,4 -4,4\"/>\n",
       "<!-- Age -->\n",
       "<g id=\"node1\" class=\"node\">\n",
       "<title>Age</title>\n",
       "<ellipse fill=\"none\" stroke=\"black\" cx=\"26.81\" cy=\"-54.1\" rx=\"27\" ry=\"18\"/>\n",
       "<text text-anchor=\"middle\" x=\"26.81\" y=\"-50.4\" font-family=\"Times,serif\" font-size=\"14.00\">Age</text>\n",
       "</g>\n",
       "<!-- Pclass -->\n",
       "<g id=\"node2\" class=\"node\">\n",
       "<title>Pclass</title>\n",
       "<ellipse fill=\"none\" stroke=\"black\" cx=\"125.56\" cy=\"-68.32\" rx=\"32.49\" ry=\"18\"/>\n",
       "<text text-anchor=\"middle\" x=\"125.56\" y=\"-64.62\" font-family=\"Times,serif\" font-size=\"14.00\">Pclass</text>\n",
       "</g>\n",
       "<!-- Age&#45;&gt;Pclass -->\n",
       "<g id=\"edge1\" class=\"edge\">\n",
       "<title>Age-&gt;Pclass</title>\n",
       "<path fill=\"none\" stroke=\"black\" d=\"M53.27,-57.91C62.7,-59.27 73.56,-60.83 83.95,-62.33\"/>\n",
       "<polygon fill=\"black\" stroke=\"black\" points=\"83.71,-65.83 94.11,-63.79 84.71,-58.9 83.71,-65.83\"/>\n",
       "</g>\n",
       "<!-- Survived -->\n",
       "<g id=\"node3\" class=\"node\">\n",
       "<title>Survived</title>\n",
       "<ellipse fill=\"none\" stroke=\"black\" cx=\"175.44\" cy=\"-120.57\" rx=\"42.49\" ry=\"18\"/>\n",
       "<text text-anchor=\"middle\" x=\"175.44\" y=\"-116.87\" font-family=\"Times,serif\" font-size=\"14.00\">Survived</text>\n",
       "</g>\n",
       "<!-- Pclass&#45;&gt;Survived -->\n",
       "<g id=\"edge2\" class=\"edge\">\n",
       "<title>Pclass-&gt;Survived</title>\n",
       "<path fill=\"none\" stroke=\"black\" d=\"M140.79,-84.28C144.45,-88.11 148.43,-92.28 152.35,-96.39\"/>\n",
       "<polygon fill=\"black\" stroke=\"black\" points=\"149.82,-98.8 159.25,-103.62 154.88,-93.97 149.82,-98.8\"/>\n",
       "</g>\n",
       "<!-- Sex -->\n",
       "<g id=\"node4\" class=\"node\">\n",
       "<title>Sex</title>\n",
       "<ellipse fill=\"none\" stroke=\"black\" cx=\"77.08\" cy=\"-172.59\" rx=\"27\" ry=\"18\"/>\n",
       "<text text-anchor=\"middle\" x=\"77.08\" y=\"-168.89\" font-family=\"Times,serif\" font-size=\"14.00\">Sex</text>\n",
       "</g>\n",
       "<!-- Sex&#45;&gt;Survived -->\n",
       "<g id=\"edge3\" class=\"edge\">\n",
       "<title>Sex-&gt;Survived</title>\n",
       "<path fill=\"none\" stroke=\"black\" d=\"M98.42,-161.3C110.56,-154.88 126.08,-146.67 140,-139.31\"/>\n",
       "<polygon fill=\"black\" stroke=\"black\" points=\"141.67,-142.39 148.87,-134.62 138.39,-136.2 141.67,-142.39\"/>\n",
       "</g>\n",
       "<!-- SibSp -->\n",
       "<g id=\"node5\" class=\"node\">\n",
       "<title>SibSp</title>\n",
       "<ellipse fill=\"none\" stroke=\"black\" cx=\"203.2\" cy=\"-232.92\" rx=\"31.7\" ry=\"18\"/>\n",
       "<text text-anchor=\"middle\" x=\"203.2\" y=\"-229.22\" font-family=\"Times,serif\" font-size=\"14.00\">SibSp</text>\n",
       "</g>\n",
       "<!-- Parch -->\n",
       "<g id=\"node6\" class=\"node\">\n",
       "<title>Parch</title>\n",
       "<ellipse fill=\"none\" stroke=\"black\" cx=\"99.41\" cy=\"-220.89\" rx=\"30.59\" ry=\"18\"/>\n",
       "<text text-anchor=\"middle\" x=\"99.41\" y=\"-217.19\" font-family=\"Times,serif\" font-size=\"14.00\">Parch</text>\n",
       "</g>\n",
       "<!-- SibSp&#45;&gt;Parch -->\n",
       "<g id=\"edge4\" class=\"edge\">\n",
       "<title>SibSp-&gt;Parch</title>\n",
       "<path fill=\"none\" stroke=\"black\" d=\"M171.78,-229.28C161.65,-228.1 150.28,-226.79 139.61,-225.55\"/>\n",
       "<polygon fill=\"black\" stroke=\"black\" points=\"139.99,-222.07 129.66,-224.39 139.19,-229.02 139.99,-222.07\"/>\n",
       "</g>\n",
       "<!-- Parch&#45;&gt;Sex -->\n",
       "<g id=\"edge5\" class=\"edge\">\n",
       "<title>Parch-&gt;Sex</title>\n",
       "<path fill=\"none\" stroke=\"black\" d=\"M91.35,-203.45C90.71,-202.07 90.05,-200.65 89.39,-199.22\"/>\n",
       "<polygon fill=\"black\" stroke=\"black\" points=\"92.43,-197.45 85.06,-189.84 86.07,-200.38 92.43,-197.45\"/>\n",
       "</g>\n",
       "<!-- Embarked -->\n",
       "<g id=\"node7\" class=\"node\">\n",
       "<title>Embarked</title>\n",
       "<ellipse fill=\"none\" stroke=\"black\" cx=\"165.87\" cy=\"-18.47\" rx=\"47.39\" ry=\"18\"/>\n",
       "<text text-anchor=\"middle\" x=\"165.87\" y=\"-14.77\" font-family=\"Times,serif\" font-size=\"14.00\">Embarked</text>\n",
       "</g>\n",
       "<!-- Embarked&#45;&gt;Pclass -->\n",
       "<g id=\"edge6\" class=\"edge\">\n",
       "<title>Embarked-&gt;Pclass</title>\n",
       "<path fill=\"none\" stroke=\"black\" d=\"M151.77,-35.9C149.68,-38.48 147.5,-41.19 145.32,-43.88\"/>\n",
       "<polygon fill=\"black\" stroke=\"black\" points=\"142.47,-41.84 138.9,-51.81 147.91,-46.24 142.47,-41.84\"/>\n",
       "</g>\n",
       "</g>\n",
       "</svg>"
      ],
      "text/plain": [
       "<IPython.core.display.SVG object>"
      ]
     },
     "metadata": {},
     "output_type": "display_data"
    }
   ],
   "source": [
    "G4 = nx.DiGraph()\n",
    "G4.add_nodes_from([\"Survived\",\"Age\",\"Pclass\",\"Sex\",\"SibSp\",\"Parch\",\"Fare\",\"Embarked\"])\n",
    "G4.add_edges_from(model.edges())\n",
    "G4.add_edges_from([(\"Sex\",\"Survived\"),(\"Pclass\",\"Survived\"),(\"SibSp\",\"Parch\")])\n",
    "G4.remove_edge(\"Parch\",\"SibSp\")\n",
    "G4.remove_node(\"Fare\")\n",
    "\n",
    "svg4 = SVG(nx.nx_agraph.to_agraph(G4).draw(prog='fdp', format='svg'))\n",
    "display(svg4)\n",
    "# G4img = Image.open(\"/kaggle/input/titanicbayesian-network/Final graph.png\")\n",
    "# G4img"
   ]
  },
  {
   "cell_type": "code",
   "execution_count": null,
   "metadata": {},
   "outputs": [],
   "source": []
  },
  {
   "cell_type": "code",
   "execution_count": 34,
   "metadata": {
    "execution": {
     "iopub.execute_input": "2021-03-31T10:07:39.145739Z",
     "iopub.status.busy": "2021-03-31T10:07:39.144868Z",
     "iopub.status.idle": "2021-03-31T10:07:39.148275Z",
     "shell.execute_reply": "2021-03-31T10:07:39.149222Z"
    },
    "papermill": {
     "duration": 0.064804,
     "end_time": "2021-03-31T10:07:39.149485",
     "exception": false,
     "start_time": "2021-03-31T10:07:39.084681",
     "status": "completed"
    },
    "tags": []
   },
   "outputs": [
    {
     "name": "stdout",
     "output_type": "stream",
     "text": [
      "['Survived', 'Age', 'Pclass', 'Sex', 'SibSp', 'Parch', 'Embarked'] [('Age', 'Pclass'), ('Pclass', 'Survived'), ('Sex', 'Survived'), ('SibSp', 'Parch'), ('Parch', 'Sex'), ('Embarked', 'Pclass')]\n"
     ]
    }
   ],
   "source": [
    "nodes = G4.nodes\n",
    "edges = G4.edges\n",
    "print(nodes,edges)"
   ]
  },
  {
   "cell_type": "code",
   "execution_count": 42,
   "metadata": {},
   "outputs": [],
   "source": [
    "# save as gml\n",
    "\n",
    "nx.write_gml(G4,\"titanic.gml\")"
   ]
  },
  {
   "attachments": {},
   "cell_type": "markdown",
   "metadata": {
    "papermill": {
     "duration": 0.053218,
     "end_time": "2021-03-31T10:07:39.258817",
     "exception": false,
     "start_time": "2021-03-31T10:07:39.205599",
     "status": "completed"
    },
    "tags": []
   },
   "source": [
    "**BIC calculation**"
   ]
  },
  {
   "cell_type": "code",
   "execution_count": 35,
   "metadata": {
    "execution": {
     "iopub.execute_input": "2021-03-31T10:07:39.381378Z",
     "iopub.status.busy": "2021-03-31T10:07:39.377547Z",
     "iopub.status.idle": "2021-03-31T10:07:39.541668Z",
     "shell.execute_reply": "2021-03-31T10:07:39.539773Z"
    },
    "papermill": {
     "duration": 0.230087,
     "end_time": "2021-03-31T10:07:39.542206",
     "exception": false,
     "start_time": "2021-03-31T10:07:39.312119",
     "status": "completed"
    },
    "tags": []
   },
   "outputs": [
    {
     "name": "stdout",
     "output_type": "stream",
     "text": [
      "BIC=-4829.55707321401\n"
     ]
    }
   ],
   "source": [
    "from pgmpy.models import BayesianModel\n",
    "from pgmpy.estimators import BicScore\n",
    "model = BayesianModel(edges)  \n",
    "print(\"BIC=\"+str(BicScore(data1).score(model)))"
   ]
  },
  {
   "cell_type": "code",
   "execution_count": 36,
   "metadata": {},
   "outputs": [
    {
     "data": {
      "text/plain": [
       "<pgmpy.models.BayesianModel.BayesianModel at 0x7fc1a21883d0>"
      ]
     },
     "execution_count": 36,
     "metadata": {},
     "output_type": "execute_result"
    }
   ],
   "source": [
    "model"
   ]
  },
  {
   "attachments": {},
   "cell_type": "markdown",
   "metadata": {
    "papermill": {
     "duration": 0.056032,
     "end_time": "2021-03-31T10:07:39.654524",
     "exception": false,
     "start_time": "2021-03-31T10:07:39.598492",
     "status": "completed"
    },
    "tags": []
   },
   "source": [
    "**cpds calculation**"
   ]
  },
  {
   "cell_type": "code",
   "execution_count": 37,
   "metadata": {},
   "outputs": [],
   "source": [
    "# Add CPD (Conditional Probability Distribution) to the Bayesian Model.\n"
   ]
  },
  {
   "cell_type": "code",
   "execution_count": 38,
   "metadata": {
    "execution": {
     "iopub.execute_input": "2021-03-31T10:07:39.789578Z",
     "iopub.status.busy": "2021-03-31T10:07:39.785869Z",
     "iopub.status.idle": "2021-03-31T10:07:39.876563Z",
     "shell.execute_reply": "2021-03-31T10:07:39.877116Z"
    },
    "papermill": {
     "duration": 0.159855,
     "end_time": "2021-03-31T10:07:39.877312",
     "exception": false,
     "start_time": "2021-03-31T10:07:39.717457",
     "status": "completed"
    },
    "tags": []
   },
   "outputs": [
    {
     "name": "stdout",
     "output_type": "stream",
     "text": [
      "+-----------------------+-----------+\n",
      "| Age((0.34, 26.947])   | 0.35883   |\n",
      "+-----------------------+-----------+\n",
      "| Age((26.947, 53.473]) | 0.586052  |\n",
      "+-----------------------+-----------+\n",
      "| Age((53.473, 80.0])   | 0.0551181 |\n",
      "+-----------------------+-----------+ \n",
      "\n",
      "+-------------+-----------+\n",
      "| Embarked(0) | 0.724409  |\n",
      "+-------------+-----------+\n",
      "| Embarked(1) | 0.188976  |\n",
      "+-------------+-----------+\n",
      "| Embarked(2) | 0.0866142 |\n",
      "+-------------+-----------+ \n",
      "\n",
      "+----------+-----------------------+----------------------+---------------------+----------+----------+----------+----------+\n",
      "| SibSp    | SibSp(0)              | SibSp(1)             | SibSp(2)            | SibSp(3) | SibSp(4) | SibSp(5) | SibSp(8) |\n",
      "+----------+-----------------------+----------------------+---------------------+----------+----------+----------+----------+\n",
      "| Parch(0) | 0.8828382838283828    | 0.5885167464114832   | 0.5714285714285714  | 0.125    | 0.0      | 0.0      | 0.0      |\n",
      "+----------+-----------------------+----------------------+---------------------+----------+----------+----------+----------+\n",
      "| Parch(1) | 0.0627062706270627    | 0.2727272727272727   | 0.25                | 0.4375   | 0.5      | 0.0      | 0.0      |\n",
      "+----------+-----------------------+----------------------+---------------------+----------+----------+----------+----------+\n",
      "| Parch(2) | 0.04785478547854786   | 0.09090909090909091  | 0.14285714285714285 | 0.4375   | 0.5      | 1.0      | 1.0      |\n",
      "+----------+-----------------------+----------------------+---------------------+----------+----------+----------+----------+\n",
      "| Parch(3) | 0.0016501650165016502 | 0.014354066985645933 | 0.03571428571428571 | 0.0      | 0.0      | 0.0      | 0.0      |\n",
      "+----------+-----------------------+----------------------+---------------------+----------+----------+----------+----------+\n",
      "| Parch(4) | 0.0016501650165016502 | 0.014354066985645933 | 0.0                 | 0.0      | 0.0      | 0.0      | 0.0      |\n",
      "+----------+-----------------------+----------------------+---------------------+----------+----------+----------+----------+\n",
      "| Parch(5) | 0.0033003300330033004 | 0.014354066985645933 | 0.0                 | 0.0      | 0.0      | 0.0      | 0.0      |\n",
      "+----------+-----------------------+----------------------+---------------------+----------+----------+----------+----------+\n",
      "| Parch(6) | 0.0                   | 0.004784688995215311 | 0.0                 | 0.0      | 0.0      | 0.0      | 0.0      |\n",
      "+----------+-----------------------+----------------------+---------------------+----------+----------+----------+----------+ \n",
      "\n",
      "+-----------+---------------------+---------------------+---------------------+-----------------------+-----------------------+-----------------------+---------------------+---------------------+---------------------+\n",
      "| Age       | Age((0.34, 26.947]) | Age((0.34, 26.947]) | Age((0.34, 26.947]) | Age((26.947, 53.473]) | Age((26.947, 53.473]) | Age((26.947, 53.473]) | Age((53.473, 80.0]) | Age((53.473, 80.0]) | Age((53.473, 80.0]) |\n",
      "+-----------+---------------------+---------------------+---------------------+-----------------------+-----------------------+-----------------------+---------------------+---------------------+---------------------+\n",
      "| Embarked  | Embarked(0)         | Embarked(1)         | Embarked(2)         | Embarked(0)           | Embarked(1)           | Embarked(2)           | Embarked(0)         | Embarked(1)         | Embarked(2)         |\n",
      "+-----------+---------------------+---------------------+---------------------+-----------------------+-----------------------+-----------------------+---------------------+---------------------+---------------------+\n",
      "| Pclass(1) | 0.09274193548387097 | 0.3684210526315789  | 0.0                 | 0.2396694214876033    | 0.5204081632653061    | 0.03333333333333333   | 0.5151515151515151  | 1.0                 | 0.0                 |\n",
      "+-----------+---------------------+---------------------+---------------------+-----------------------+-----------------------+-----------------------+---------------------+---------------------+---------------------+\n",
      "| Pclass(2) | 0.23790322580645162 | 0.14035087719298245 | 0.0                 | 0.25895316804407714   | 0.09183673469387756   | 0.03333333333333333   | 0.3333333333333333  | 0.0                 | 0.3333333333333333  |\n",
      "+-----------+---------------------+---------------------+---------------------+-----------------------+-----------------------+-----------------------+---------------------+---------------------+---------------------+\n",
      "| Pclass(3) | 0.6693548387096774  | 0.49122807017543857 | 1.0                 | 0.5013774104683195    | 0.3877551020408163    | 0.9333333333333333    | 0.15151515151515152 | 0.0                 | 0.6666666666666666  |\n",
      "+-----------+---------------------+---------------------+---------------------+-----------------------+-----------------------+-----------------------+---------------------+---------------------+---------------------+ \n",
      "\n",
      "+--------+---------------------+--------------------+----------+----------+----------+----------+----------+\n",
      "| Parch  | Parch(0)            | Parch(1)           | Parch(2) | Parch(3) | Parch(4) | Parch(5) | Parch(6) |\n",
      "+--------+---------------------+--------------------+----------+----------+----------+----------+----------+\n",
      "| Sex(0) | 0.7159763313609467  | 0.4915254237288136 | 0.3875   | 0.2      | 0.5      | 0.2      | 0.0      |\n",
      "+--------+---------------------+--------------------+----------+----------+----------+----------+----------+\n",
      "| Sex(1) | 0.28402366863905326 | 0.5084745762711864 | 0.6125   | 0.8      | 0.5      | 0.8      | 1.0      |\n",
      "+--------+---------------------+--------------------+----------+----------+----------+----------+----------+ \n",
      "\n",
      "+----------+------------+\n",
      "| SibSp(0) | 0.681665   |\n",
      "+----------+------------+\n",
      "| SibSp(1) | 0.235096   |\n",
      "+----------+------------+\n",
      "| SibSp(2) | 0.0314961  |\n",
      "+----------+------------+\n",
      "| SibSp(3) | 0.0179978  |\n",
      "+----------+------------+\n",
      "| SibSp(4) | 0.0202475  |\n",
      "+----------+------------+\n",
      "| SibSp(5) | 0.0056243  |\n",
      "+----------+------------+\n",
      "| SibSp(8) | 0.00787402 |\n",
      "+----------+------------+ \n",
      "\n",
      "+-------------+---------------------+---------------------+--------------------+---------------------+---------------------+-----------+\n",
      "| Pclass      | Pclass(1)           | Pclass(1)           | Pclass(2)          | Pclass(2)           | Pclass(3)           | Pclass(3) |\n",
      "+-------------+---------------------+---------------------+--------------------+---------------------+---------------------+-----------+\n",
      "| Sex         | Sex(0)              | Sex(1)              | Sex(0)             | Sex(1)              | Sex(0)              | Sex(1)    |\n",
      "+-------------+---------------------+---------------------+--------------------+---------------------+---------------------+-----------+\n",
      "| Survived(0) | 0.6311475409836066  | 0.03260869565217391 | 0.8425925925925926 | 0.07894736842105263 | 0.8645533141210374  | 0.5       |\n",
      "+-------------+---------------------+---------------------+--------------------+---------------------+---------------------+-----------+\n",
      "| Survived(1) | 0.36885245901639346 | 0.967391304347826   | 0.1574074074074074 | 0.9210526315789473  | 0.13544668587896252 | 0.5       |\n",
      "+-------------+---------------------+---------------------+--------------------+---------------------+---------------------+-----------+ \n",
      "\n"
     ]
    }
   ],
   "source": [
    "model.fit(data1)\n",
    "cpds = model.get_cpds()\n",
    "for cpd in cpds:\n",
    "    print(cpd, '\\n')"
   ]
  },
  {
   "cell_type": "code",
   "execution_count": 39,
   "metadata": {},
   "outputs": [
    {
     "data": {
      "text/plain": [
       "[<TabularCPD representing P(Age:3) at 0x7fc17aa82fd0>,\n",
       " <TabularCPD representing P(Embarked:3) at 0x7fc1a2188220>,\n",
       " <TabularCPD representing P(Parch:7 | SibSp:7) at 0x7fc17aa8bb20>,\n",
       " <TabularCPD representing P(Pclass:3 | Age:3, Embarked:3) at 0x7fc17aa8bbb0>,\n",
       " <TabularCPD representing P(Sex:2 | Parch:7) at 0x7fc1b0e5fca0>,\n",
       " <TabularCPD representing P(SibSp:7) at 0x7fc1b0e5f070>,\n",
       " <TabularCPD representing P(Survived:2 | Pclass:3, Sex:2) at 0x7fc1b0e5f2e0>]"
      ]
     },
     "execution_count": 39,
     "metadata": {},
     "output_type": "execute_result"
    }
   ],
   "source": [
    "cpds"
   ]
  },
  {
   "cell_type": "code",
   "execution_count": 40,
   "metadata": {},
   "outputs": [
    {
     "name": "stdout",
     "output_type": "stream",
     "text": [
      "+-----------------------+-----------+\n",
      "| Age((0.34, 26.947])   | 0.35883   |\n",
      "+-----------------------+-----------+\n",
      "| Age((26.947, 53.473]) | 0.586052  |\n",
      "+-----------------------+-----------+\n",
      "| Age((53.473, 80.0])   | 0.0551181 |\n",
      "+-----------------------+-----------+\n"
     ]
    }
   ],
   "source": [
    "print(cpds[0])"
   ]
  },
  {
   "cell_type": "code",
   "execution_count": 41,
   "metadata": {},
   "outputs": [
    {
     "name": "stdout",
     "output_type": "stream",
     "text": [
      "+----------+-----------------------+----------------------+---------------------+----------+----------+----------+----------+\n",
      "| SibSp    | SibSp(0)              | SibSp(1)             | SibSp(2)            | SibSp(3) | SibSp(4) | SibSp(5) | SibSp(8) |\n",
      "+----------+-----------------------+----------------------+---------------------+----------+----------+----------+----------+\n",
      "| Parch(0) | 0.8828382838283828    | 0.5885167464114832   | 0.5714285714285714  | 0.125    | 0.0      | 0.0      | 0.0      |\n",
      "+----------+-----------------------+----------------------+---------------------+----------+----------+----------+----------+\n",
      "| Parch(1) | 0.0627062706270627    | 0.2727272727272727   | 0.25                | 0.4375   | 0.5      | 0.0      | 0.0      |\n",
      "+----------+-----------------------+----------------------+---------------------+----------+----------+----------+----------+\n",
      "| Parch(2) | 0.04785478547854786   | 0.09090909090909091  | 0.14285714285714285 | 0.4375   | 0.5      | 1.0      | 1.0      |\n",
      "+----------+-----------------------+----------------------+---------------------+----------+----------+----------+----------+\n",
      "| Parch(3) | 0.0016501650165016502 | 0.014354066985645933 | 0.03571428571428571 | 0.0      | 0.0      | 0.0      | 0.0      |\n",
      "+----------+-----------------------+----------------------+---------------------+----------+----------+----------+----------+\n",
      "| Parch(4) | 0.0016501650165016502 | 0.014354066985645933 | 0.0                 | 0.0      | 0.0      | 0.0      | 0.0      |\n",
      "+----------+-----------------------+----------------------+---------------------+----------+----------+----------+----------+\n",
      "| Parch(5) | 0.0033003300330033004 | 0.014354066985645933 | 0.0                 | 0.0      | 0.0      | 0.0      | 0.0      |\n",
      "+----------+-----------------------+----------------------+---------------------+----------+----------+----------+----------+\n",
      "| Parch(6) | 0.0                   | 0.004784688995215311 | 0.0                 | 0.0      | 0.0      | 0.0      | 0.0      |\n",
      "+----------+-----------------------+----------------------+---------------------+----------+----------+----------+----------+\n"
     ]
    }
   ],
   "source": [
    "print(cpds[2])"
   ]
  }
 ],
 "metadata": {
  "kernelspec": {
   "display_name": "Python 3",
   "language": "python",
   "name": "python3"
  },
  "language_info": {
   "codemirror_mode": {
    "name": "ipython",
    "version": 3
   },
   "file_extension": ".py",
   "mimetype": "text/x-python",
   "name": "python",
   "nbconvert_exporter": "python",
   "pygments_lexer": "ipython3",
   "version": "3.9.16"
  },
  "papermill": {
   "default_parameters": {},
   "duration": 64.52138,
   "end_time": "2021-03-31T10:07:40.947536",
   "environment_variables": {},
   "exception": null,
   "input_path": "__notebook__.ipynb",
   "output_path": "__notebook__.ipynb",
   "parameters": {},
   "start_time": "2021-03-31T10:06:36.426156",
   "version": "2.2.2"
  }
 },
 "nbformat": 4,
 "nbformat_minor": 4
}
